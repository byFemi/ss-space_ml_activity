{
  "cells": [
    {
      "cell_type": "markdown",
      "source": [
        "# Orbit Classification using Specific Angular Momentum\n",
        "by David Adeyemi    \n",
        "David.F.Adeyemi@IBM.com"
      ],
      "metadata": {
        "nteract": {
          "transient": {
            "deleting": false
          }
        }
      }
    },
    {
      "cell_type": "markdown",
      "source": [
        "## Imports"
      ],
      "metadata": {
        "nteract": {
          "transient": {
            "deleting": false
          }
        }
      }
    },
    {
      "cell_type": "code",
      "source": [
        "import pandas as pd\n",
        "import pandas_profiling as pp\n",
        "import sklearn#Classification, Regression, Clustering, Dimensionality Reduction,Model Selection and Preprocesing (https://scikit-learn.org/)\n",
        "from sklearn import preprocessing \n",
        "from sklearn.preprocessing import MinMaxScaler\n",
        "from sklearn.model_selection import train_test_split\n",
        "from sklearn.metrics import precision_recall_fscore_support\n",
        "from sklearn.metrics import accuracy_score\n",
        "from sklearn.metrics import confusion_matrix\n",
        "import seaborn as sns\n",
        "import numpy as np\n",
        "import concurrent.futures\n",
        "from threading import Thread\n",
        "import matplotlib\n",
        "import matplotlib.pyplot as plt\n",
        "from mpl_toolkits.mplot3d import Axes3D"
      ],
      "outputs": [],
      "execution_count": 1,
      "metadata": {
        "execution": {
          "iopub.status.busy": "2020-09-25T19:37:51.692Z",
          "iopub.execute_input": "2020-09-25T19:37:51.710Z",
          "iopub.status.idle": "2020-09-25T19:37:53.106Z",
          "shell.execute_reply": "2020-09-25T19:37:53.118Z"
        }
      }
    },
    {
      "cell_type": "code",
      "source": [
        "pd.options.display.max_columns = 32"
      ],
      "outputs": [],
      "execution_count": 2,
      "metadata": {
        "execution": {
          "iopub.status.busy": "2020-09-25T19:37:55.824Z",
          "iopub.execute_input": "2020-09-25T19:37:55.837Z",
          "iopub.status.idle": "2020-09-25T19:37:55.858Z",
          "shell.execute_reply": "2020-09-25T19:37:55.869Z"
        }
      }
    },
    {
      "cell_type": "code",
      "source": [
        "orbits = pd.read_csv('data/orbits10k.csv')\n",
        "orbits.head()"
      ],
      "outputs": [
        {
          "output_type": "execute_result",
          "execution_count": 3,
          "data": {
            "text/plain": "            Update Time Country Norad ID  Ballistic Coefficient Birth Date  \\\n0  2018-09-21T12:57:34Z      US        5              -0.000836    3/17/58   \n1  2018-09-21T12:57:34Z      US       11               0.001178    2/17/59   \n2  2018-09-21T12:57:34Z      US       12              -0.000028    2/17/59   \n3  2018-09-21T12:57:34Z      US       16               0.003164    3/17/58   \n4  2018-09-21T12:57:34Z      US       20              -0.000197    9/18/59   \n\n  Satellite Name  Mean Anomaly  Eccentricity  Argument of Perigee  \\\n0     VANGUARD 1     -0.074076      0.185306             0.106879   \n1     VANGUARD 2      1.515870      0.146055            -1.807318   \n2   VANGUARD R/B      0.402951      0.167067            -0.565692   \n3   VANGUARD R/B     -0.870622      0.203509             1.237075   \n4     VANGUARD 3     -1.932535      0.166701             2.217743   \n\n   Semi-Major-Axis                           Epoch  \\\n0      8625577.201  2018-09-19T10:50:02.108000000Z   \n1      8129711.528  2018-09-19T12:46:57.970000000Z   \n2      8324420.021  2018-09-19T12:13:36.343000000Z   \n3      8821902.476  2018-09-19T05:17:19.725000000Z   \n4      8269209.620  2018-09-19T08:47:27.705000000Z   \n\n   Right Ascension of Ascending Node Orbit Type  Inclination            X  \\\n0                           0.528073        LEO     0.598919  6083608.397   \n1                          -1.286941        LEO     0.572340  2300413.919   \n2                           1.032665        LEO     0.576123  3642729.979   \n3                          -2.890836        LEO     0.597709 -7670825.090   \n4                          -1.199064        LEO     0.580515  3238395.545   \n\n             Y             Z           Rx           Ry           Rz  \n0  3530432.088 -10806.671030 -3511.202159  5785.242807  4618.390643  \n1 -7909311.701  -4324.933114  5799.853120   637.966012  3702.275886  \n2  6083714.636  -6362.752338 -5438.427674  3991.550775  4362.728035  \n3 -1985609.587  13681.825650  2801.324306 -5531.387171  4121.100752  \n4 -8331843.751  -6010.958041  4597.432129  2788.343902  3473.828704  ",
            "text/html": "<div>\n<style scoped>\n    .dataframe tbody tr th:only-of-type {\n        vertical-align: middle;\n    }\n\n    .dataframe tbody tr th {\n        vertical-align: top;\n    }\n\n    .dataframe thead th {\n        text-align: right;\n    }\n</style>\n<table border=\"1\" class=\"dataframe\">\n  <thead>\n    <tr style=\"text-align: right;\">\n      <th></th>\n      <th>Update Time</th>\n      <th>Country</th>\n      <th>Norad ID</th>\n      <th>Ballistic Coefficient</th>\n      <th>Birth Date</th>\n      <th>Satellite Name</th>\n      <th>Mean Anomaly</th>\n      <th>Eccentricity</th>\n      <th>Argument of Perigee</th>\n      <th>Semi-Major-Axis</th>\n      <th>Epoch</th>\n      <th>Right Ascension of Ascending Node</th>\n      <th>Orbit Type</th>\n      <th>Inclination</th>\n      <th>X</th>\n      <th>Y</th>\n      <th>Z</th>\n      <th>Rx</th>\n      <th>Ry</th>\n      <th>Rz</th>\n    </tr>\n  </thead>\n  <tbody>\n    <tr>\n      <th>0</th>\n      <td>2018-09-21T12:57:34Z</td>\n      <td>US</td>\n      <td>5</td>\n      <td>-0.000836</td>\n      <td>3/17/58</td>\n      <td>VANGUARD 1</td>\n      <td>-0.074076</td>\n      <td>0.185306</td>\n      <td>0.106879</td>\n      <td>8625577.201</td>\n      <td>2018-09-19T10:50:02.108000000Z</td>\n      <td>0.528073</td>\n      <td>LEO</td>\n      <td>0.598919</td>\n      <td>6083608.397</td>\n      <td>3530432.088</td>\n      <td>-10806.671030</td>\n      <td>-3511.202159</td>\n      <td>5785.242807</td>\n      <td>4618.390643</td>\n    </tr>\n    <tr>\n      <th>1</th>\n      <td>2018-09-21T12:57:34Z</td>\n      <td>US</td>\n      <td>11</td>\n      <td>0.001178</td>\n      <td>2/17/59</td>\n      <td>VANGUARD 2</td>\n      <td>1.515870</td>\n      <td>0.146055</td>\n      <td>-1.807318</td>\n      <td>8129711.528</td>\n      <td>2018-09-19T12:46:57.970000000Z</td>\n      <td>-1.286941</td>\n      <td>LEO</td>\n      <td>0.572340</td>\n      <td>2300413.919</td>\n      <td>-7909311.701</td>\n      <td>-4324.933114</td>\n      <td>5799.853120</td>\n      <td>637.966012</td>\n      <td>3702.275886</td>\n    </tr>\n    <tr>\n      <th>2</th>\n      <td>2018-09-21T12:57:34Z</td>\n      <td>US</td>\n      <td>12</td>\n      <td>-0.000028</td>\n      <td>2/17/59</td>\n      <td>VANGUARD R/B</td>\n      <td>0.402951</td>\n      <td>0.167067</td>\n      <td>-0.565692</td>\n      <td>8324420.021</td>\n      <td>2018-09-19T12:13:36.343000000Z</td>\n      <td>1.032665</td>\n      <td>LEO</td>\n      <td>0.576123</td>\n      <td>3642729.979</td>\n      <td>6083714.636</td>\n      <td>-6362.752338</td>\n      <td>-5438.427674</td>\n      <td>3991.550775</td>\n      <td>4362.728035</td>\n    </tr>\n    <tr>\n      <th>3</th>\n      <td>2018-09-21T12:57:34Z</td>\n      <td>US</td>\n      <td>16</td>\n      <td>0.003164</td>\n      <td>3/17/58</td>\n      <td>VANGUARD R/B</td>\n      <td>-0.870622</td>\n      <td>0.203509</td>\n      <td>1.237075</td>\n      <td>8821902.476</td>\n      <td>2018-09-19T05:17:19.725000000Z</td>\n      <td>-2.890836</td>\n      <td>LEO</td>\n      <td>0.597709</td>\n      <td>-7670825.090</td>\n      <td>-1985609.587</td>\n      <td>13681.825650</td>\n      <td>2801.324306</td>\n      <td>-5531.387171</td>\n      <td>4121.100752</td>\n    </tr>\n    <tr>\n      <th>4</th>\n      <td>2018-09-21T12:57:34Z</td>\n      <td>US</td>\n      <td>20</td>\n      <td>-0.000197</td>\n      <td>9/18/59</td>\n      <td>VANGUARD 3</td>\n      <td>-1.932535</td>\n      <td>0.166701</td>\n      <td>2.217743</td>\n      <td>8269209.620</td>\n      <td>2018-09-19T08:47:27.705000000Z</td>\n      <td>-1.199064</td>\n      <td>LEO</td>\n      <td>0.580515</td>\n      <td>3238395.545</td>\n      <td>-8331843.751</td>\n      <td>-6010.958041</td>\n      <td>4597.432129</td>\n      <td>2788.343902</td>\n      <td>3473.828704</td>\n    </tr>\n  </tbody>\n</table>\n</div>"
          },
          "metadata": {}
        }
      ],
      "execution_count": 3,
      "metadata": {
        "execution": {
          "iopub.status.busy": "2020-09-25T19:37:58.530Z",
          "iopub.execute_input": "2020-09-25T19:37:58.545Z",
          "iopub.status.idle": "2020-09-25T19:37:58.583Z",
          "shell.execute_reply": "2020-09-25T19:37:58.623Z"
        }
      }
    },
    {
      "cell_type": "markdown",
      "source": [
        "## Feature Selection"
      ],
      "metadata": {
        "nteract": {
          "transient": {
            "deleting": false
          }
        }
      }
    },
    {
      "cell_type": "code",
      "source": [
        "features = pd.DataFrame"
      ],
      "outputs": [],
      "execution_count": 4,
      "metadata": {
        "collapsed": true,
        "jupyter": {
          "source_hidden": false,
          "outputs_hidden": false
        },
        "nteract": {
          "transient": {
            "deleting": false
          }
        },
        "execution": {
          "iopub.status.busy": "2020-09-25T19:38:39.094Z",
          "iopub.execute_input": "2020-09-25T19:38:39.106Z",
          "iopub.status.idle": "2020-09-25T19:38:39.131Z",
          "shell.execute_reply": "2020-09-25T19:38:39.144Z"
        }
      }
    },
    {
      "cell_type": "code",
      "source": [
        "features = orbits[['Orbit Type','X','Y','Z','Rx','Ry','Rz']]"
      ],
      "outputs": [],
      "execution_count": 5,
      "metadata": {
        "execution": {
          "iopub.status.busy": "2020-09-25T19:38:39.480Z",
          "iopub.execute_input": "2020-09-25T19:38:39.496Z",
          "iopub.status.idle": "2020-09-25T19:38:39.518Z",
          "shell.execute_reply": "2020-09-25T19:38:39.531Z"
        }
      }
    },
    {
      "cell_type": "code",
      "source": [
        "features.head()"
      ],
      "outputs": [
        {
          "output_type": "execute_result",
          "execution_count": 6,
          "data": {
            "text/plain": "  Orbit Type            X            Y             Z           Rx  \\\n0        LEO  6083608.397  3530432.088 -10806.671030 -3511.202159   \n1        LEO  2300413.919 -7909311.701  -4324.933114  5799.853120   \n2        LEO  3642729.979  6083714.636  -6362.752338 -5438.427674   \n3        LEO -7670825.090 -1985609.587  13681.825650  2801.324306   \n4        LEO  3238395.545 -8331843.751  -6010.958041  4597.432129   \n\n            Ry           Rz  \n0  5785.242807  4618.390643  \n1   637.966012  3702.275886  \n2  3991.550775  4362.728035  \n3 -5531.387171  4121.100752  \n4  2788.343902  3473.828704  ",
            "text/html": "<div>\n<style scoped>\n    .dataframe tbody tr th:only-of-type {\n        vertical-align: middle;\n    }\n\n    .dataframe tbody tr th {\n        vertical-align: top;\n    }\n\n    .dataframe thead th {\n        text-align: right;\n    }\n</style>\n<table border=\"1\" class=\"dataframe\">\n  <thead>\n    <tr style=\"text-align: right;\">\n      <th></th>\n      <th>Orbit Type</th>\n      <th>X</th>\n      <th>Y</th>\n      <th>Z</th>\n      <th>Rx</th>\n      <th>Ry</th>\n      <th>Rz</th>\n    </tr>\n  </thead>\n  <tbody>\n    <tr>\n      <th>0</th>\n      <td>LEO</td>\n      <td>6083608.397</td>\n      <td>3530432.088</td>\n      <td>-10806.671030</td>\n      <td>-3511.202159</td>\n      <td>5785.242807</td>\n      <td>4618.390643</td>\n    </tr>\n    <tr>\n      <th>1</th>\n      <td>LEO</td>\n      <td>2300413.919</td>\n      <td>-7909311.701</td>\n      <td>-4324.933114</td>\n      <td>5799.853120</td>\n      <td>637.966012</td>\n      <td>3702.275886</td>\n    </tr>\n    <tr>\n      <th>2</th>\n      <td>LEO</td>\n      <td>3642729.979</td>\n      <td>6083714.636</td>\n      <td>-6362.752338</td>\n      <td>-5438.427674</td>\n      <td>3991.550775</td>\n      <td>4362.728035</td>\n    </tr>\n    <tr>\n      <th>3</th>\n      <td>LEO</td>\n      <td>-7670825.090</td>\n      <td>-1985609.587</td>\n      <td>13681.825650</td>\n      <td>2801.324306</td>\n      <td>-5531.387171</td>\n      <td>4121.100752</td>\n    </tr>\n    <tr>\n      <th>4</th>\n      <td>LEO</td>\n      <td>3238395.545</td>\n      <td>-8331843.751</td>\n      <td>-6010.958041</td>\n      <td>4597.432129</td>\n      <td>2788.343902</td>\n      <td>3473.828704</td>\n    </tr>\n  </tbody>\n</table>\n</div>"
          },
          "metadata": {}
        }
      ],
      "execution_count": 6,
      "metadata": {
        "collapsed": true,
        "jupyter": {
          "source_hidden": false,
          "outputs_hidden": false
        },
        "nteract": {
          "transient": {
            "deleting": false
          }
        },
        "execution": {
          "iopub.status.busy": "2020-09-25T19:38:40.040Z",
          "iopub.execute_input": "2020-09-25T19:38:40.054Z",
          "iopub.status.idle": "2020-09-25T19:38:40.150Z",
          "shell.execute_reply": "2020-09-25T19:38:40.160Z"
        }
      }
    },
    {
      "cell_type": "markdown",
      "source": [
        "## Feature Engineering"
      ],
      "metadata": {
        "nteract": {
          "transient": {
            "deleting": false
          }
        }
      }
    },
    {
      "cell_type": "code",
      "source": [
        "def cross(x,y,z,rx,ry,rz):\n",
        "  a = np.array([x,y,z])\n",
        "  b = np.array([rx, ry, rz])\n",
        "  cross = np.cross(a,b)\n",
        "  return cross[0], cross[1], cross[2]"
      ],
      "outputs": [],
      "execution_count": 7,
      "metadata": {
        "collapsed": true,
        "jupyter": {
          "source_hidden": false,
          "outputs_hidden": false
        },
        "nteract": {
          "transient": {
            "deleting": false
          }
        },
        "execution": {
          "iopub.status.busy": "2020-09-25T19:39:08.669Z",
          "iopub.execute_input": "2020-09-25T19:39:08.683Z",
          "iopub.status.idle": "2020-09-25T19:39:08.707Z",
          "shell.execute_reply": "2020-09-25T19:39:08.722Z"
        }
      }
    },
    {
      "cell_type": "markdown",
      "source": [
        "Using MultiThreading to calculate the cross product r x v in parallel"
      ],
      "metadata": {
        "nteract": {
          "transient": {
            "deleting": false
          }
        }
      }
    },
    {
      "cell_type": "code",
      "source": [
        "with concurrent.futures.ThreadPoolExecutor() as executor:\n",
        "  features['l'] = list(executor.map(cross, features['X'], features['Y'], features['Z'], features['Rx'], features['Ry'], features['Rz']))"
      ],
      "outputs": [
        {
          "output_type": "stream",
          "name": "stderr",
          "text": [
            "/Users/davida/opt/anaconda3/lib/python3.7/site-packages/ipykernel_launcher.py:2: SettingWithCopyWarning: \n",
            "A value is trying to be set on a copy of a slice from a DataFrame.\n",
            "Try using .loc[row_indexer,col_indexer] = value instead\n",
            "\n",
            "See the caveats in the documentation: https://pandas.pydata.org/pandas-docs/stable/user_guide/indexing.html#returning-a-view-versus-a-copy\n",
            "  \n"
          ]
        }
      ],
      "execution_count": 8,
      "metadata": {
        "collapsed": true,
        "jupyter": {
          "source_hidden": false,
          "outputs_hidden": false
        },
        "nteract": {
          "transient": {
            "deleting": false
          }
        },
        "execution": {
          "iopub.status.busy": "2020-09-25T19:39:29.717Z",
          "iopub.execute_input": "2020-09-25T19:39:29.732Z",
          "iopub.status.idle": "2020-09-25T19:39:30.361Z",
          "shell.execute_reply": "2020-09-25T19:39:30.385Z"
        }
      }
    },
    {
      "cell_type": "code",
      "source": [
        "l_expand = pd.DataFrame(features.l.tolist(), columns=['lx','ly','lz'])\n",
        "features = pd.concat([features[:], l_expand[:]],axis=1)"
      ],
      "outputs": [],
      "execution_count": 9,
      "metadata": {
        "collapsed": true,
        "jupyter": {
          "source_hidden": false,
          "outputs_hidden": false
        },
        "nteract": {
          "transient": {
            "deleting": false
          }
        },
        "execution": {
          "iopub.status.busy": "2020-09-25T19:39:37.484Z",
          "iopub.execute_input": "2020-09-25T19:39:37.498Z",
          "iopub.status.idle": "2020-09-25T19:39:37.518Z",
          "shell.execute_reply": "2020-09-25T19:39:37.533Z"
        }
      }
    },
    {
      "cell_type": "code",
      "source": [
        "features.head()"
      ],
      "outputs": [
        {
          "output_type": "execute_result",
          "execution_count": 10,
          "data": {
            "text/plain": "  Orbit Type            X            Y             Z           Rx  \\\n0        LEO  6083608.397  3530432.088 -10806.671030 -3511.202159   \n1        LEO  2300413.919 -7909311.701  -4324.933114  5799.853120   \n2        LEO  3642729.979  6083714.636  -6362.752338 -5438.427674   \n3        LEO -7670825.090 -1985609.587  13681.825650  2801.324306   \n4        LEO  3238395.545 -8331843.751  -6010.958041  4597.432129   \n\n            Ry           Rz  \\\n0  5785.242807  4618.390643   \n1   637.966012  3702.275886   \n2  3991.550775  4362.728035   \n3 -5531.387171  4121.100752   \n4  2788.343902  3473.828704   \n\n                                                   l            lx  \\\n0  (16367433736.810076, -28058535689.728893, 4759...  1.636743e+10   \n1  (-29279694825.13774, -8541850956.947482, 47340... -2.927969e+10   \n2  (26566989648.442894, -15857636834.920473, 4762...  2.656699e+10   \n3  (-8107217687.287841, 31650570277.60327, 479926... -8.107218e+09   \n4  (-28926637361.268032, -11277266370.750488, 473... -2.892664e+10   \n\n             ly            lz  \n0 -2.805854e+10  4.759121e+10  \n1 -8.541851e+09  4.734043e+10  \n2 -1.585764e+10  4.762598e+10  \n3  3.165057e+10  4.799264e+10  \n4 -1.127727e+10  4.733485e+10  ",
            "text/html": "<div>\n<style scoped>\n    .dataframe tbody tr th:only-of-type {\n        vertical-align: middle;\n    }\n\n    .dataframe tbody tr th {\n        vertical-align: top;\n    }\n\n    .dataframe thead th {\n        text-align: right;\n    }\n</style>\n<table border=\"1\" class=\"dataframe\">\n  <thead>\n    <tr style=\"text-align: right;\">\n      <th></th>\n      <th>Orbit Type</th>\n      <th>X</th>\n      <th>Y</th>\n      <th>Z</th>\n      <th>Rx</th>\n      <th>Ry</th>\n      <th>Rz</th>\n      <th>l</th>\n      <th>lx</th>\n      <th>ly</th>\n      <th>lz</th>\n    </tr>\n  </thead>\n  <tbody>\n    <tr>\n      <th>0</th>\n      <td>LEO</td>\n      <td>6083608.397</td>\n      <td>3530432.088</td>\n      <td>-10806.671030</td>\n      <td>-3511.202159</td>\n      <td>5785.242807</td>\n      <td>4618.390643</td>\n      <td>(16367433736.810076, -28058535689.728893, 4759...</td>\n      <td>1.636743e+10</td>\n      <td>-2.805854e+10</td>\n      <td>4.759121e+10</td>\n    </tr>\n    <tr>\n      <th>1</th>\n      <td>LEO</td>\n      <td>2300413.919</td>\n      <td>-7909311.701</td>\n      <td>-4324.933114</td>\n      <td>5799.853120</td>\n      <td>637.966012</td>\n      <td>3702.275886</td>\n      <td>(-29279694825.13774, -8541850956.947482, 47340...</td>\n      <td>-2.927969e+10</td>\n      <td>-8.541851e+09</td>\n      <td>4.734043e+10</td>\n    </tr>\n    <tr>\n      <th>2</th>\n      <td>LEO</td>\n      <td>3642729.979</td>\n      <td>6083714.636</td>\n      <td>-6362.752338</td>\n      <td>-5438.427674</td>\n      <td>3991.550775</td>\n      <td>4362.728035</td>\n      <td>(26566989648.442894, -15857636834.920473, 4762...</td>\n      <td>2.656699e+10</td>\n      <td>-1.585764e+10</td>\n      <td>4.762598e+10</td>\n    </tr>\n    <tr>\n      <th>3</th>\n      <td>LEO</td>\n      <td>-7670825.090</td>\n      <td>-1985609.587</td>\n      <td>13681.825650</td>\n      <td>2801.324306</td>\n      <td>-5531.387171</td>\n      <td>4121.100752</td>\n      <td>(-8107217687.287841, 31650570277.60327, 479926...</td>\n      <td>-8.107218e+09</td>\n      <td>3.165057e+10</td>\n      <td>4.799264e+10</td>\n    </tr>\n    <tr>\n      <th>4</th>\n      <td>LEO</td>\n      <td>3238395.545</td>\n      <td>-8331843.751</td>\n      <td>-6010.958041</td>\n      <td>4597.432129</td>\n      <td>2788.343902</td>\n      <td>3473.828704</td>\n      <td>(-28926637361.268032, -11277266370.750488, 473...</td>\n      <td>-2.892664e+10</td>\n      <td>-1.127727e+10</td>\n      <td>4.733485e+10</td>\n    </tr>\n  </tbody>\n</table>\n</div>"
          },
          "metadata": {}
        }
      ],
      "execution_count": 10,
      "metadata": {
        "collapsed": true,
        "jupyter": {
          "source_hidden": false,
          "outputs_hidden": false
        },
        "nteract": {
          "transient": {
            "deleting": false
          }
        },
        "execution": {
          "iopub.status.busy": "2020-09-25T19:39:38.529Z",
          "iopub.execute_input": "2020-09-25T19:39:38.541Z",
          "iopub.status.idle": "2020-09-25T19:39:38.568Z",
          "shell.execute_reply": "2020-09-25T19:39:38.579Z"
        }
      }
    },
    {
      "cell_type": "markdown",
      "source": [
        "## Plotting\n"
      ],
      "metadata": {
        "nteract": {
          "transient": {
            "deleting": false
          }
        }
      }
    },
    {
      "cell_type": "code",
      "source": [
        "ovisplt = plt.figure().gca(projection='3d')\n",
        "ovisplt.scatter(features['lx'], features['ly'], features['lz'])\n",
        "ovisplt.set_xlabel('lx')\n",
        "ovisplt.set_ylabel('ly')\n",
        "ovisplt.set_zlabel('lz')\n"
      ],
      "outputs": [
        {
          "output_type": "execute_result",
          "execution_count": 14,
          "data": {
            "text/plain": "Text(0.5, 0, 'lz')"
          },
          "metadata": {}
        },
        {
          "output_type": "display_data",
          "data": {
            "text/plain": "<Figure size 576x396 with 1 Axes>",
            "image/png": "[encoded data removed]"
          },
          "metadata": {}
        }
      ],
      "execution_count": 14,
      "metadata": {
        "collapsed": true,
        "jupyter": {
          "source_hidden": false,
          "outputs_hidden": false
        },
        "nteract": {
          "transient": {
            "deleting": false
          }
        },
        "execution": {
          "iopub.status.busy": "2020-09-25T19:40:30.754Z",
          "iopub.execute_input": "2020-09-25T19:40:30.766Z",
          "iopub.status.idle": "2020-09-25T19:40:30.980Z",
          "shell.execute_reply": "2020-09-25T19:40:31.003Z"
        }
      }
    },
    {
      "cell_type": "code",
      "source": [
        "features.head()"
      ],
      "outputs": [
        {
          "output_type": "execute_result",
          "execution_count": 15,
          "data": {
            "text/plain": "  Orbit Type            X            Y             Z           Rx  \\\n0        LEO  6083608.397  3530432.088 -10806.671030 -3511.202159   \n1        LEO  2300413.919 -7909311.701  -4324.933114  5799.853120   \n2        LEO  3642729.979  6083714.636  -6362.752338 -5438.427674   \n3        LEO -7670825.090 -1985609.587  13681.825650  2801.324306   \n4        LEO  3238395.545 -8331843.751  -6010.958041  4597.432129   \n\n            Ry           Rz  \\\n0  5785.242807  4618.390643   \n1   637.966012  3702.275886   \n2  3991.550775  4362.728035   \n3 -5531.387171  4121.100752   \n4  2788.343902  3473.828704   \n\n                                                   l            lx  \\\n0  (16367433736.810076, -28058535689.728893, 4759...  1.636743e+10   \n1  (-29279694825.13774, -8541850956.947482, 47340... -2.927969e+10   \n2  (26566989648.442894, -15857636834.920473, 4762...  2.656699e+10   \n3  (-8107217687.287841, 31650570277.60327, 479926... -8.107218e+09   \n4  (-28926637361.268032, -11277266370.750488, 473... -2.892664e+10   \n\n             ly            lz  \n0 -2.805854e+10  4.759121e+10  \n1 -8.541851e+09  4.734043e+10  \n2 -1.585764e+10  4.762598e+10  \n3  3.165057e+10  4.799264e+10  \n4 -1.127727e+10  4.733485e+10  ",
            "text/html": "<div>\n<style scoped>\n    .dataframe tbody tr th:only-of-type {\n        vertical-align: middle;\n    }\n\n    .dataframe tbody tr th {\n        vertical-align: top;\n    }\n\n    .dataframe thead th {\n        text-align: right;\n    }\n</style>\n<table border=\"1\" class=\"dataframe\">\n  <thead>\n    <tr style=\"text-align: right;\">\n      <th></th>\n      <th>Orbit Type</th>\n      <th>X</th>\n      <th>Y</th>\n      <th>Z</th>\n      <th>Rx</th>\n      <th>Ry</th>\n      <th>Rz</th>\n      <th>l</th>\n      <th>lx</th>\n      <th>ly</th>\n      <th>lz</th>\n    </tr>\n  </thead>\n  <tbody>\n    <tr>\n      <th>0</th>\n      <td>LEO</td>\n      <td>6083608.397</td>\n      <td>3530432.088</td>\n      <td>-10806.671030</td>\n      <td>-3511.202159</td>\n      <td>5785.242807</td>\n      <td>4618.390643</td>\n      <td>(16367433736.810076, -28058535689.728893, 4759...</td>\n      <td>1.636743e+10</td>\n      <td>-2.805854e+10</td>\n      <td>4.759121e+10</td>\n    </tr>\n    <tr>\n      <th>1</th>\n      <td>LEO</td>\n      <td>2300413.919</td>\n      <td>-7909311.701</td>\n      <td>-4324.933114</td>\n      <td>5799.853120</td>\n      <td>637.966012</td>\n      <td>3702.275886</td>\n      <td>(-29279694825.13774, -8541850956.947482, 47340...</td>\n      <td>-2.927969e+10</td>\n      <td>-8.541851e+09</td>\n      <td>4.734043e+10</td>\n    </tr>\n    <tr>\n      <th>2</th>\n      <td>LEO</td>\n      <td>3642729.979</td>\n      <td>6083714.636</td>\n      <td>-6362.752338</td>\n      <td>-5438.427674</td>\n      <td>3991.550775</td>\n      <td>4362.728035</td>\n      <td>(26566989648.442894, -15857636834.920473, 4762...</td>\n      <td>2.656699e+10</td>\n      <td>-1.585764e+10</td>\n      <td>4.762598e+10</td>\n    </tr>\n    <tr>\n      <th>3</th>\n      <td>LEO</td>\n      <td>-7670825.090</td>\n      <td>-1985609.587</td>\n      <td>13681.825650</td>\n      <td>2801.324306</td>\n      <td>-5531.387171</td>\n      <td>4121.100752</td>\n      <td>(-8107217687.287841, 31650570277.60327, 479926...</td>\n      <td>-8.107218e+09</td>\n      <td>3.165057e+10</td>\n      <td>4.799264e+10</td>\n    </tr>\n    <tr>\n      <th>4</th>\n      <td>LEO</td>\n      <td>3238395.545</td>\n      <td>-8331843.751</td>\n      <td>-6010.958041</td>\n      <td>4597.432129</td>\n      <td>2788.343902</td>\n      <td>3473.828704</td>\n      <td>(-28926637361.268032, -11277266370.750488, 473...</td>\n      <td>-2.892664e+10</td>\n      <td>-1.127727e+10</td>\n      <td>4.733485e+10</td>\n    </tr>\n  </tbody>\n</table>\n</div>"
          },
          "metadata": {}
        }
      ],
      "execution_count": 15,
      "metadata": {
        "collapsed": true,
        "jupyter": {
          "source_hidden": false,
          "outputs_hidden": false
        },
        "nteract": {
          "transient": {
            "deleting": false
          }
        },
        "execution": {
          "iopub.status.busy": "2020-09-25T19:40:33.884Z",
          "iopub.execute_input": "2020-09-25T19:40:33.897Z",
          "iopub.status.idle": "2020-09-25T19:40:33.922Z",
          "shell.execute_reply": "2020-09-25T19:40:33.933Z"
        }
      }
    },
    {
      "cell_type": "markdown",
      "source": [
        "## Profiling\n"
      ],
      "metadata": {
        "nteract": {
          "transient": {
            "deleting": false
          }
        }
      }
    },
    {
      "cell_type": "code",
      "source": [
        "pp.ProfileReport(features)"
      ],
      "outputs": [],
      "execution_count": null,
      "metadata": {
        "collapsed": true,
        "jupyter": {
          "source_hidden": false,
          "outputs_hidden": false
        },
        "nteract": {
          "transient": {
            "deleting": false
          }
        },
        "execution": {
          "iopub.status.busy": "2020-06-09T18:34:58.227Z",
          "iopub.execute_input": "2020-06-09T18:34:58.234Z",
          "iopub.status.idle": "2020-06-09T18:35:33.414Z",
          "shell.execute_reply": "2020-06-09T18:35:33.707Z"
        }
      }
    },
    {
      "cell_type": "code",
      "source": [
        "y = features['Orbit Type']\n",
        "X = features[['lx','ly','lz']]\n",
        "display(X.head())\n",
        "display(y.head())"
      ],
      "outputs": [
        {
          "output_type": "display_data",
          "data": {
            "text/plain": "             lx            ly            lz\n0  1.636743e+10 -2.805854e+10  4.759121e+10\n1 -2.927969e+10 -8.541851e+09  4.734043e+10\n2  2.656699e+10 -1.585764e+10  4.762598e+10\n3 -8.107218e+09  3.165057e+10  4.799264e+10\n4 -2.892664e+10 -1.127727e+10  4.733485e+10",
            "text/html": "<div>\n<style scoped>\n    .dataframe tbody tr th:only-of-type {\n        vertical-align: middle;\n    }\n\n    .dataframe tbody tr th {\n        vertical-align: top;\n    }\n\n    .dataframe thead th {\n        text-align: right;\n    }\n</style>\n<table border=\"1\" class=\"dataframe\">\n  <thead>\n    <tr style=\"text-align: right;\">\n      <th></th>\n      <th>lx</th>\n      <th>ly</th>\n      <th>lz</th>\n    </tr>\n  </thead>\n  <tbody>\n    <tr>\n      <th>0</th>\n      <td>1.636743e+10</td>\n      <td>-2.805854e+10</td>\n      <td>4.759121e+10</td>\n    </tr>\n    <tr>\n      <th>1</th>\n      <td>-2.927969e+10</td>\n      <td>-8.541851e+09</td>\n      <td>4.734043e+10</td>\n    </tr>\n    <tr>\n      <th>2</th>\n      <td>2.656699e+10</td>\n      <td>-1.585764e+10</td>\n      <td>4.762598e+10</td>\n    </tr>\n    <tr>\n      <th>3</th>\n      <td>-8.107218e+09</td>\n      <td>3.165057e+10</td>\n      <td>4.799264e+10</td>\n    </tr>\n    <tr>\n      <th>4</th>\n      <td>-2.892664e+10</td>\n      <td>-1.127727e+10</td>\n      <td>4.733485e+10</td>\n    </tr>\n  </tbody>\n</table>\n</div>"
          },
          "metadata": {}
        },
        {
          "output_type": "display_data",
          "data": {
            "text/plain": "0    LEO\n1    LEO\n2    LEO\n3    LEO\n4    LEO\nName: Orbit Type, dtype: object"
          },
          "metadata": {}
        }
      ],
      "execution_count": 18,
      "metadata": {
        "collapsed": true,
        "jupyter": {
          "source_hidden": false,
          "outputs_hidden": false
        },
        "nteract": {
          "transient": {
            "deleting": false
          }
        },
        "execution": {
          "iopub.status.busy": "2020-09-25T19:41:00.331Z",
          "iopub.execute_input": "2020-09-25T19:41:00.345Z",
          "iopub.status.idle": "2020-09-25T19:41:00.382Z",
          "shell.execute_reply": "2020-09-25T19:41:00.392Z"
        }
      }
    },
    {
      "cell_type": "markdown",
      "source": [
        "## Feature Scaling"
      ],
      "metadata": {
        "nteract": {
          "transient": {
            "deleting": false
          }
        }
      }
    },
    {
      "cell_type": "code",
      "source": [
        "scaler = MinMaxScaler()\n",
        "scaler = MinMaxScaler(feature_range=(0, 1), copy=True)\n",
        "scaler.fit(X)\n",
        "\n",
        "X = pd.DataFrame(scaler.transform(X), index=X.index, columns=X.columns)\n",
        "display(X.head())"
      ],
      "outputs": [
        {
          "output_type": "display_data",
          "data": {
            "text/plain": "         lx        ly        lz\n0  0.621744  0.401918  0.605879\n1  0.412273  0.501048  0.604881\n2  0.668549  0.463889  0.606017\n3  0.509432  0.705193  0.607476\n4  0.413893  0.487154  0.604858",
            "text/html": "<div>\n<style scoped>\n    .dataframe tbody tr th:only-of-type {\n        vertical-align: middle;\n    }\n\n    .dataframe tbody tr th {\n        vertical-align: top;\n    }\n\n    .dataframe thead th {\n        text-align: right;\n    }\n</style>\n<table border=\"1\" class=\"dataframe\">\n  <thead>\n    <tr style=\"text-align: right;\">\n      <th></th>\n      <th>lx</th>\n      <th>ly</th>\n      <th>lz</th>\n    </tr>\n  </thead>\n  <tbody>\n    <tr>\n      <th>0</th>\n      <td>0.621744</td>\n      <td>0.401918</td>\n      <td>0.605879</td>\n    </tr>\n    <tr>\n      <th>1</th>\n      <td>0.412273</td>\n      <td>0.501048</td>\n      <td>0.604881</td>\n    </tr>\n    <tr>\n      <th>2</th>\n      <td>0.668549</td>\n      <td>0.463889</td>\n      <td>0.606017</td>\n    </tr>\n    <tr>\n      <th>3</th>\n      <td>0.509432</td>\n      <td>0.705193</td>\n      <td>0.607476</td>\n    </tr>\n    <tr>\n      <th>4</th>\n      <td>0.413893</td>\n      <td>0.487154</td>\n      <td>0.604858</td>\n    </tr>\n  </tbody>\n</table>\n</div>"
          },
          "metadata": {}
        }
      ],
      "execution_count": 19,
      "metadata": {
        "collapsed": true,
        "jupyter": {
          "source_hidden": false,
          "outputs_hidden": false
        },
        "nteract": {
          "transient": {
            "deleting": false
          }
        },
        "execution": {
          "iopub.status.busy": "2020-09-25T19:41:06.983Z",
          "iopub.execute_input": "2020-09-25T19:41:06.997Z",
          "iopub.status.idle": "2020-09-25T19:41:07.025Z",
          "shell.execute_reply": "2020-09-25T19:41:07.037Z"
        }
      }
    },
    {
      "cell_type": "markdown",
      "source": [
        "## Creating Training and Test Partitions"
      ],
      "metadata": {
        "nteract": {
          "transient": {
            "deleting": false
          }
        }
      }
    },
    {
      "cell_type": "code",
      "source": [
        "x_train, x_test, y_train, y_test = train_test_split(X, y, test_size=0.20, random_state=42)"
      ],
      "outputs": [],
      "execution_count": 20,
      "metadata": {
        "collapsed": true,
        "jupyter": {
          "source_hidden": false,
          "outputs_hidden": false
        },
        "nteract": {
          "transient": {
            "deleting": false
          }
        },
        "execution": {
          "iopub.status.busy": "2020-09-25T19:41:09.591Z",
          "iopub.execute_input": "2020-09-25T19:41:09.602Z",
          "iopub.status.idle": "2020-09-25T19:41:09.625Z",
          "shell.execute_reply": "2020-09-25T19:41:09.636Z"
        }
      }
    },
    {
      "cell_type": "code",
      "source": [
        "print(\"train and test data shape=\")\n",
        "print(x_train.shape)\n",
        "print(x_test.shape)\n",
        "print(y_train.shape)\n",
        "print(y_test.shape)"
      ],
      "outputs": [
        {
          "output_type": "stream",
          "name": "stdout",
          "text": [
            "train and test data shape=\n",
            "(7978, 3)\n",
            "(1995, 3)\n",
            "(7978,)\n",
            "(1995,)\n"
          ]
        }
      ],
      "execution_count": 21,
      "metadata": {
        "collapsed": true,
        "jupyter": {
          "source_hidden": false,
          "outputs_hidden": false
        },
        "nteract": {
          "transient": {
            "deleting": false
          }
        },
        "execution": {
          "iopub.status.busy": "2020-09-25T19:41:10.069Z",
          "iopub.execute_input": "2020-09-25T19:41:10.079Z",
          "iopub.status.idle": "2020-09-25T19:41:10.101Z",
          "shell.execute_reply": "2020-09-25T19:41:10.111Z"
        }
      }
    },
    {
      "cell_type": "code",
      "source": [
        "def calculate_metrics(y_true,y_pred):\n",
        "    print(\"precision, recall, and f1 score:\", precision_recall_fscore_support(y_true, y_pred,average='macro'))\n",
        "    print(\"accuracy score:\", accuracy_score(y_true, y_pred))\n",
        "    #print(confusion_matrix(y_true, y_pred,labels=[0,1]))"
      ],
      "outputs": [],
      "execution_count": 24,
      "metadata": {
        "collapsed": true,
        "jupyter": {
          "source_hidden": false,
          "outputs_hidden": false
        },
        "nteract": {
          "transient": {
            "deleting": false
          }
        },
        "execution": {
          "iopub.status.busy": "2020-09-25T19:41:19.608Z",
          "iopub.execute_input": "2020-09-25T19:41:19.618Z",
          "iopub.status.idle": "2020-09-25T19:41:19.637Z",
          "shell.execute_reply": "2020-09-25T19:41:19.647Z"
        }
      }
    },
    {
      "cell_type": "markdown",
      "source": [
        "## Create and Train Models"
      ],
      "metadata": {
        "nteract": {
          "transient": {
            "deleting": false
          }
        }
      }
    },
    {
      "cell_type": "code",
      "source": [
        "from sklearn.linear_model import LogisticRegression\n",
        "clf1 = LogisticRegression(random_state=0, solver='lbfgs').fit(x_train, y_train)\n",
        "y_pred= clf1.predict(x_test)\n",
        "calculate_metrics(y_test,y_pred)"
      ],
      "outputs": [
        {
          "output_type": "stream",
          "name": "stdout",
          "text": [
            "precision, recall, and f1 score: (0.47735608567156096, 0.5, 0.4883917840303245, None)\n",
            "accuracy score: 0.9438596491228071\n"
          ]
        },
        {
          "output_type": "stream",
          "name": "stderr",
          "text": [
            "/Users/davida/opt/anaconda3/lib/python3.7/site-packages/sklearn/metrics/_classification.py:1272: UndefinedMetricWarning: Precision and F-score are ill-defined and being set to 0.0 in labels with no predicted samples. Use `zero_division` parameter to control this behavior.\n",
            "  _warn_prf(average, modifier, msg_start, len(result))\n"
          ]
        }
      ],
      "execution_count": 25,
      "metadata": {
        "collapsed": true,
        "jupyter": {
          "source_hidden": false,
          "outputs_hidden": false
        },
        "nteract": {
          "transient": {
            "deleting": false
          }
        },
        "execution": {
          "iopub.status.busy": "2020-09-25T19:41:20.656Z",
          "iopub.execute_input": "2020-09-25T19:41:20.666Z",
          "iopub.status.idle": "2020-09-25T19:41:20.769Z",
          "shell.execute_reply": "2020-09-25T19:41:20.788Z"
        }
      }
    },
    {
      "cell_type": "code",
      "source": [
        "from sklearn.linear_model import SGDClassifier\n",
        "clf2 = SGDClassifier(max_iter=1000, tol=1e-3,class_weight=\"balanced\").fit(x_train, y_train)\n",
        "y_pred= clf2.predict(x_test)\n",
        "calculate_metrics(y_test,y_pred)"
      ],
      "outputs": [
        {
          "output_type": "stream",
          "name": "stdout",
          "text": [
            "precision, recall, and f1 score: (0.4840261542507827, 0.6215178854067743, 0.41039433134441483, None)\n",
            "accuracy score: 0.8952380952380953\n"
          ]
        },
        {
          "output_type": "stream",
          "name": "stderr",
          "text": [
            "/Users/davida/opt/anaconda3/lib/python3.7/site-packages/sklearn/metrics/_classification.py:1272: UndefinedMetricWarning: Precision and F-score are ill-defined and being set to 0.0 in labels with no predicted samples. Use `zero_division` parameter to control this behavior.\n",
            "  _warn_prf(average, modifier, msg_start, len(result))\n"
          ]
        }
      ],
      "execution_count": 26,
      "metadata": {
        "collapsed": true,
        "jupyter": {
          "source_hidden": false,
          "outputs_hidden": false
        },
        "nteract": {
          "transient": {
            "deleting": false
          }
        },
        "execution": {
          "iopub.status.busy": "2020-09-25T19:41:21.250Z",
          "iopub.execute_input": "2020-09-25T19:41:21.263Z",
          "iopub.status.idle": "2020-09-25T19:41:21.287Z",
          "shell.execute_reply": "2020-09-25T19:41:21.313Z"
        }
      }
    },
    {
      "cell_type": "code",
      "source": [
        "from sklearn import svm\n",
        "clf3 = svm.SVC(gamma='scale',class_weight=\"balanced\").fit(x_train, y_train)\n",
        "y_pred= clf3.predict(x_test)\n",
        "calculate_metrics(y_test,y_pred)"
      ],
      "outputs": [
        {
          "output_type": "stream",
          "name": "stdout",
          "text": [
            "precision, recall, and f1 score: (0.8213270277411089, 0.9855021382799161, 0.880477778755764, None)\n",
            "accuracy score: 0.9834586466165414\n"
          ]
        }
      ],
      "execution_count": 27,
      "metadata": {
        "collapsed": true,
        "jupyter": {
          "source_hidden": false,
          "outputs_hidden": false
        },
        "nteract": {
          "transient": {
            "deleting": false
          }
        },
        "execution": {
          "iopub.status.busy": "2020-09-25T19:41:21.783Z",
          "iopub.execute_input": "2020-09-25T19:41:21.792Z",
          "iopub.status.idle": "2020-09-25T19:41:22.069Z",
          "shell.execute_reply": "2020-09-25T19:41:22.088Z"
        }
      }
    },
    {
      "cell_type": "code",
      "source": [
        "from sklearn.neighbors import KNeighborsClassifier\n",
        "clf4 = KNeighborsClassifier(n_neighbors=3).fit(x_train, y_train)\n",
        "y_pred= clf4.predict(x_test)\n",
        "calculate_metrics(y_test,y_pred)"
      ],
      "outputs": [
        {
          "output_type": "stream",
          "name": "stdout",
          "text": [
            "precision, recall, and f1 score: (0.7406954060489758, 0.7070602348380126, 0.7223160172800589, None)\n",
            "accuracy score: 0.9894736842105263\n"
          ]
        },
        {
          "output_type": "stream",
          "name": "stderr",
          "text": [
            "/Users/davida/opt/anaconda3/lib/python3.7/site-packages/sklearn/metrics/_classification.py:1272: UndefinedMetricWarning: Precision and F-score are ill-defined and being set to 0.0 in labels with no predicted samples. Use `zero_division` parameter to control this behavior.\n",
            "  _warn_prf(average, modifier, msg_start, len(result))\n"
          ]
        }
      ],
      "execution_count": 28,
      "metadata": {
        "collapsed": true,
        "jupyter": {
          "source_hidden": false,
          "outputs_hidden": false
        },
        "nteract": {
          "transient": {
            "deleting": false
          }
        },
        "execution": {
          "iopub.status.busy": "2020-09-25T19:41:22.323Z",
          "iopub.execute_input": "2020-09-25T19:41:22.332Z",
          "iopub.status.idle": "2020-09-25T19:41:22.451Z",
          "shell.execute_reply": "2020-09-25T19:41:22.460Z"
        }
      }
    },
    {
      "cell_type": "code",
      "source": [
        "from sklearn.gaussian_process import GaussianProcessClassifier\n",
        "clf5 = GaussianProcessClassifier(max_iter_predict = 300, random_state=0).fit(x_train, y_train)\n",
        "y_pred= clf5.predict(x_test)\n",
        "calculate_metrics(y_test,y_pred)"
      ],
      "outputs": [
        {
          "output_type": "stream",
          "name": "stdout",
          "text": [
            "precision, recall, and f1 score: (0.47506925207756234, 0.5, 0.48720779738574116, None)\n",
            "accuracy score: 0.9438596491228071\n"
          ]
        },
        {
          "output_type": "stream",
          "name": "stderr",
          "text": [
            "/Users/davida/opt/anaconda3/lib/python3.7/site-packages/sklearn/metrics/_classification.py:1272: UndefinedMetricWarning: Precision and F-score are ill-defined and being set to 0.0 in labels with no predicted samples. Use `zero_division` parameter to control this behavior.\n",
            "  _warn_prf(average, modifier, msg_start, len(result))\n"
          ]
        }
      ],
      "execution_count": 29,
      "metadata": {
        "collapsed": true,
        "jupyter": {
          "source_hidden": false,
          "outputs_hidden": false
        },
        "nteract": {
          "transient": {
            "deleting": false
          }
        },
        "execution": {
          "iopub.status.busy": "2020-09-25T19:41:22.926Z",
          "iopub.execute_input": "2020-09-25T19:41:22.938Z",
          "iopub.status.idle": "2020-09-25T19:46:26.176Z",
          "shell.execute_reply": "2020-09-25T19:46:26.275Z"
        }
      }
    },
    {
      "cell_type": "code",
      "source": [
        "from sklearn.naive_bayes import MultinomialNB \n",
        "clf6 = MultinomialNB().fit(x_train, y_train) \n",
        "y_pred= clf6.predict(x_test) \n",
        "calculate_metrics(y_test,y_pred)"
      ],
      "outputs": [
        {
          "output_type": "stream",
          "name": "stdout",
          "text": [
            "precision, recall, and f1 score: (0.2131578947368421, 0.25, 0.23011363636363635, None)\n",
            "accuracy score: 0.8526315789473684\n"
          ]
        },
        {
          "output_type": "stream",
          "name": "stderr",
          "text": [
            "/Users/davida/opt/anaconda3/lib/python3.7/site-packages/sklearn/metrics/_classification.py:1272: UndefinedMetricWarning: Precision and F-score are ill-defined and being set to 0.0 in labels with no predicted samples. Use `zero_division` parameter to control this behavior.\n",
            "  _warn_prf(average, modifier, msg_start, len(result))\n"
          ]
        }
      ],
      "execution_count": 35,
      "metadata": {
        "collapsed": true,
        "jupyter": {
          "source_hidden": false,
          "outputs_hidden": false
        },
        "nteract": {
          "transient": {
            "deleting": false
          }
        },
        "execution": {
          "iopub.status.busy": "2020-09-25T19:46:29.075Z",
          "iopub.execute_input": "2020-09-25T19:46:29.090Z",
          "iopub.status.idle": "2020-09-25T19:46:29.138Z",
          "shell.execute_reply": "2020-09-25T19:46:29.286Z"
        }
      }
    },
    {
      "cell_type": "code",
      "source": [
        "from sklearn import tree \n",
        "clf7 = tree.DecisionTreeClassifier(class_weight=\"balanced\").fit(x_train, y_train) \n",
        "y_pred= clf7.predict(x_test) \n",
        "calculate_metrics(y_test,y_pred)"
      ],
      "outputs": [
        {
          "output_type": "stream",
          "name": "stdout",
          "text": [
            "precision, recall, and f1 score: (0.9828120662533543, 0.9618554757443647, 0.9718296623835505, None)\n",
            "accuracy score: 0.9889724310776943\n"
          ]
        }
      ],
      "execution_count": 36,
      "metadata": {
        "collapsed": true,
        "jupyter": {
          "source_hidden": false,
          "outputs_hidden": false
        },
        "nteract": {
          "transient": {
            "deleting": false
          }
        },
        "execution": {
          "iopub.status.busy": "2020-09-25T19:46:29.162Z",
          "iopub.execute_input": "2020-09-25T19:46:29.180Z",
          "iopub.status.idle": "2020-09-25T19:46:29.216Z",
          "shell.execute_reply": "2020-09-25T19:46:29.298Z"
        }
      }
    },
    {
      "cell_type": "code",
      "source": [
        "from sklearn.ensemble import RandomForestClassifier \n",
        "clf8 = RandomForestClassifier(n_estimators=10, max_depth=None,min_samples_split=2, random_state=0,class_weight=\"balanced\").fit(x_train, y_train) \n",
        "y_pred= clf8.predict(x_test) \n",
        "calculate_metrics(y_test,y_pred)"
      ],
      "outputs": [
        {
          "output_type": "stream",
          "name": "stdout",
          "text": [
            "precision, recall, and f1 score: (0.7368168802174335, 0.7067662900996234, 0.720613094077108, None)\n",
            "accuracy score: 0.9884711779448622\n"
          ]
        },
        {
          "output_type": "stream",
          "name": "stderr",
          "text": [
            "/Users/davida/opt/anaconda3/lib/python3.7/site-packages/sklearn/metrics/_classification.py:1272: UndefinedMetricWarning: Precision and F-score are ill-defined and being set to 0.0 in labels with no predicted samples. Use `zero_division` parameter to control this behavior.\n",
            "  _warn_prf(average, modifier, msg_start, len(result))\n"
          ]
        }
      ],
      "execution_count": 37,
      "metadata": {
        "collapsed": true,
        "jupyter": {
          "source_hidden": false,
          "outputs_hidden": false
        },
        "nteract": {
          "transient": {
            "deleting": false
          }
        },
        "execution": {
          "iopub.status.busy": "2020-09-25T19:46:29.240Z",
          "iopub.execute_input": "2020-09-25T19:46:29.255Z",
          "iopub.status.idle": "2020-09-25T19:46:29.339Z",
          "shell.execute_reply": "2020-09-25T19:46:29.307Z"
        }
      }
    },
    {
      "cell_type": "code",
      "source": [
        "from sklearn.ensemble import GradientBoostingClassifier\n",
        "clf9 = GradientBoostingClassifier(n_estimators=100, learning_rate=1.0, max_depth=1, random_state=0).fit(x_train, y_train)\n",
        "y_pred= clf9.predict(x_test) \n",
        "calculate_metrics(y_test,y_pred)"
      ],
      "outputs": [
        {
          "output_type": "stream",
          "name": "stdout",
          "text": [
            "precision, recall, and f1 score: (0.7326797467092142, 0.6483547039102595, 0.6799225931301403, None)\n",
            "accuracy score: 0.9759398496240601\n"
          ]
        },
        {
          "output_type": "stream",
          "name": "stderr",
          "text": [
            "/Users/davida/opt/anaconda3/lib/python3.7/site-packages/sklearn/metrics/_classification.py:1272: UndefinedMetricWarning: Precision and F-score are ill-defined and being set to 0.0 in labels with no predicted samples. Use `zero_division` parameter to control this behavior.\n",
            "  _warn_prf(average, modifier, msg_start, len(result))\n"
          ]
        }
      ],
      "execution_count": 38,
      "metadata": {
        "collapsed": true,
        "jupyter": {
          "source_hidden": false,
          "outputs_hidden": false
        },
        "nteract": {
          "transient": {
            "deleting": false
          }
        },
        "execution": {
          "iopub.status.busy": "2020-09-25T19:46:29.363Z",
          "iopub.execute_input": "2020-09-25T19:46:29.378Z",
          "iopub.status.idle": "2020-09-25T19:46:31.536Z",
          "shell.execute_reply": "2020-09-25T19:46:31.604Z"
        }
      }
    },
    {
      "cell_type": "code",
      "source": [
        "from sklearn.ensemble import VotingClassifier\n",
        "clf10 = VotingClassifier(estimators=[('rfc', clf8), ('kn', clf4)], voting='hard').fit(x_train, y_train)\n",
        "y_pred= clf10.predict(x_test)\n",
        "calculate_metrics(y_test,y_pred)"
      ],
      "outputs": [
        {
          "output_type": "stream",
          "name": "stdout",
          "text": [
            "precision, recall, and f1 score: (0.7422820556934647, 0.6936936936936937, 0.7147354721797541, None)\n",
            "accuracy score: 0.9869674185463659\n"
          ]
        },
        {
          "output_type": "stream",
          "name": "stderr",
          "text": [
            "/Users/davida/opt/anaconda3/lib/python3.7/site-packages/sklearn/metrics/_classification.py:1272: UndefinedMetricWarning: Precision and F-score are ill-defined and being set to 0.0 in labels with no predicted samples. Use `zero_division` parameter to control this behavior.\n",
            "  _warn_prf(average, modifier, msg_start, len(result))\n"
          ]
        }
      ],
      "execution_count": 39,
      "metadata": {
        "collapsed": true,
        "jupyter": {
          "source_hidden": false,
          "outputs_hidden": false
        },
        "nteract": {
          "transient": {
            "deleting": false
          }
        },
        "execution": {
          "iopub.status.busy": "2020-09-25T19:46:31.559Z",
          "iopub.execute_input": "2020-09-25T19:46:31.574Z",
          "iopub.status.idle": "2020-09-25T19:46:31.743Z",
          "shell.execute_reply": "2020-09-25T19:46:31.869Z"
        }
      }
    },
    {
      "cell_type": "markdown",
      "source": [
        "## Best Classifier Selection"
      ],
      "metadata": {
        "nteract": {
          "transient": {
            "deleting": false
          }
        }
      }
    },
    {
      "cell_type": "markdown",
      "source": [
        "Removed gaussian process classifier, the cross val time is too great while going sequentially."
      ],
      "metadata": {
        "nteract": {
          "transient": {
            "deleting": false
          }
        }
      }
    },
    {
      "cell_type": "code",
      "source": [
        "classifiers = [clf1, clf2, clf3, clf4, clf6, clf7, clf10, clf8, clf9]"
      ],
      "outputs": [],
      "execution_count": 40,
      "metadata": {
        "collapsed": true,
        "jupyter": {
          "source_hidden": false,
          "outputs_hidden": false
        },
        "nteract": {
          "transient": {
            "deleting": false
          }
        },
        "execution": {
          "iopub.status.busy": "2020-09-25T19:46:31.764Z",
          "iopub.execute_input": "2020-09-25T19:46:31.778Z",
          "iopub.status.idle": "2020-09-25T19:46:31.800Z",
          "shell.execute_reply": "2020-09-25T19:46:31.879Z"
        }
      }
    },
    {
      "cell_type": "code",
      "source": [
        "from sklearn.model_selection import cross_val_score\n",
        "cv_acc_log = pd.DataFrame(columns=[\"Classifier\", \"CV_Accuracy\"]) #create accuracy log dataframe\n",
        "for clf in classifiers:\n",
        "    name = clf.__class__.__name__ #Get and print classifier name\n",
        "    print(name)\n",
        "    acc = cross_val_score(clf, X, y, cv=10, scoring=\"accuracy\").mean()\n",
        "    print(\"Accuracy: {:.2%}\".format(acc), end = \"\\n\\n\") \n",
        "    log_entry = pd.DataFrame([[name, acc*100]], columns=[\"Classifier\", \"CV_Accuracy\"])\n",
        "    cv_acc_log = cv_acc_log.append(log_entry)"
      ],
      "outputs": [
        {
          "output_type": "stream",
          "name": "stderr",
          "text": [
            "/Users/davida/opt/anaconda3/lib/python3.7/site-packages/sklearn/model_selection/_split.py:667: UserWarning: The least populated class in y has only 5 members, which is less than n_splits=10.\n",
            "  % (min_groups, self.n_splits)), UserWarning)\n",
            "/Users/davida/opt/anaconda3/lib/python3.7/site-packages/sklearn/model_selection/_split.py:667: UserWarning: The least populated class in y has only 5 members, which is less than n_splits=10.\n",
            "  % (min_groups, self.n_splits)), UserWarning)\n",
            "/Users/davida/opt/anaconda3/lib/python3.7/site-packages/sklearn/model_selection/_split.py:667: UserWarning: The least populated class in y has only 5 members, which is less than n_splits=10.\n",
            "  % (min_groups, self.n_splits)), UserWarning)\n",
            "/Users/davida/opt/anaconda3/lib/python3.7/site-packages/sklearn/model_selection/_split.py:667: UserWarning: The least populated class in y has only 5 members, which is less than n_splits=10.\n",
            "  % (min_groups, self.n_splits)), UserWarning)\n",
            "/Users/davida/opt/anaconda3/lib/python3.7/site-packages/sklearn/model_selection/_split.py:667: UserWarning: The least populated class in y has only 5 members, which is less than n_splits=10.\n",
            "  % (min_groups, self.n_splits)), UserWarning)\n",
            "/Users/davida/opt/anaconda3/lib/python3.7/site-packages/sklearn/model_selection/_split.py:667: UserWarning: The least populated class in y has only 5 members, which is less than n_splits=10.\n",
            "  % (min_groups, self.n_splits)), UserWarning)\n",
            "/Users/davida/opt/anaconda3/lib/python3.7/site-packages/sklearn/model_selection/_split.py:667: UserWarning: The least populated class in y has only 5 members, which is less than n_splits=10.\n",
            "  % (min_groups, self.n_splits)), UserWarning)\n",
            "/Users/davida/opt/anaconda3/lib/python3.7/site-packages/sklearn/model_selection/_split.py:667: UserWarning: The least populated class in y has only 5 members, which is less than n_splits=10.\n",
            "  % (min_groups, self.n_splits)), UserWarning)\n",
            "/Users/davida/opt/anaconda3/lib/python3.7/site-packages/sklearn/model_selection/_split.py:667: UserWarning: The least populated class in y has only 5 members, which is less than n_splits=10.\n",
            "  % (min_groups, self.n_splits)), UserWarning)\n"
          ]
        },
        {
          "output_type": "stream",
          "name": "stdout",
          "text": [
            "LogisticRegression\n",
            "Accuracy: 94.62%\n",
            "\n",
            "SGDClassifier\n",
            "Accuracy: 88.75%\n",
            "\n",
            "SVC\n",
            "Accuracy: 97.62%\n",
            "\n",
            "KNeighborsClassifier\n",
            "Accuracy: 98.78%\n",
            "\n",
            "MultinomialNB\n",
            "Accuracy: 85.39%\n",
            "\n",
            "DecisionTreeClassifier\n",
            "Accuracy: 98.43%\n",
            "\n",
            "VotingClassifier\n",
            "Accuracy: 98.81%\n",
            "\n",
            "RandomForestClassifier\n",
            "Accuracy: 98.82%\n",
            "\n",
            "GradientBoostingClassifier\n",
            "Accuracy: 97.41%\n",
            "\n"
          ]
        }
      ],
      "execution_count": 41,
      "metadata": {
        "collapsed": true,
        "jupyter": {
          "source_hidden": false,
          "outputs_hidden": false
        },
        "nteract": {
          "transient": {
            "deleting": false
          }
        },
        "execution": {
          "iopub.status.busy": "2020-09-25T19:46:31.822Z",
          "iopub.execute_input": "2020-09-25T19:46:31.838Z",
          "iopub.status.idle": "2020-09-25T19:46:59.649Z",
          "shell.execute_reply": "2020-09-25T19:46:59.790Z"
        }
      }
    },
    {
      "cell_type": "code",
      "source": [
        "cv_acc_log = cv_acc_log.sort_values(['CV_Accuracy'], ascending = False)\n",
        "display(cv_acc_log)\n",
        "sns.set_color_codes(\"muted\") \n",
        "sns.barplot(x='CV_Accuracy', y='Classifier', data=cv_acc_log, color=\"g\")"
      ],
      "outputs": [
        {
          "output_type": "display_data",
          "data": {
            "text/plain": "                   Classifier  CV_Accuracy\n0      RandomForestClassifier    98.817042\n0            VotingClassifier    98.807073\n0        KNeighborsClassifier    98.776932\n0      DecisionTreeClassifier    98.425919\n0                         SVC    97.623512\n0  GradientBoostingClassifier    97.413252\n0          LogisticRegression    94.615470\n0               SGDClassifier    88.749776\n0               MultinomialNB    85.390560",
            "text/html": "<div>\n<style scoped>\n    .dataframe tbody tr th:only-of-type {\n        vertical-align: middle;\n    }\n\n    .dataframe tbody tr th {\n        vertical-align: top;\n    }\n\n    .dataframe thead th {\n        text-align: right;\n    }\n</style>\n<table border=\"1\" class=\"dataframe\">\n  <thead>\n    <tr style=\"text-align: right;\">\n      <th></th>\n      <th>Classifier</th>\n      <th>CV_Accuracy</th>\n    </tr>\n  </thead>\n  <tbody>\n    <tr>\n      <th>0</th>\n      <td>RandomForestClassifier</td>\n      <td>98.817042</td>\n    </tr>\n    <tr>\n      <th>0</th>\n      <td>VotingClassifier</td>\n      <td>98.807073</td>\n    </tr>\n    <tr>\n      <th>0</th>\n      <td>KNeighborsClassifier</td>\n      <td>98.776932</td>\n    </tr>\n    <tr>\n      <th>0</th>\n      <td>DecisionTreeClassifier</td>\n      <td>98.425919</td>\n    </tr>\n    <tr>\n      <th>0</th>\n      <td>SVC</td>\n      <td>97.623512</td>\n    </tr>\n    <tr>\n      <th>0</th>\n      <td>GradientBoostingClassifier</td>\n      <td>97.413252</td>\n    </tr>\n    <tr>\n      <th>0</th>\n      <td>LogisticRegression</td>\n      <td>94.615470</td>\n    </tr>\n    <tr>\n      <th>0</th>\n      <td>SGDClassifier</td>\n      <td>88.749776</td>\n    </tr>\n    <tr>\n      <th>0</th>\n      <td>MultinomialNB</td>\n      <td>85.390560</td>\n    </tr>\n  </tbody>\n</table>\n</div>"
          },
          "metadata": {}
        },
        {
          "output_type": "execute_result",
          "execution_count": 42,
          "data": {
            "text/plain": "<AxesSubplot:xlabel='CV_Accuracy', ylabel='Classifier'>"
          },
          "metadata": {}
        },
        {
          "output_type": "display_data",
          "data": {
            "text/plain": "<Figure size 576x396 with 1 Axes>",
            "image/png": "[encoded data removed]"
          },
          "metadata": {}
        }
      ],
      "execution_count": 42,
      "metadata": {
        "collapsed": true,
        "jupyter": {
          "source_hidden": false,
          "outputs_hidden": false
        },
        "nteract": {
          "transient": {
            "deleting": false
          }
        },
        "execution": {
          "iopub.status.busy": "2020-09-25T19:46:59.665Z",
          "iopub.execute_input": "2020-09-25T19:46:59.675Z",
          "iopub.status.idle": "2020-09-25T19:46:59.872Z",
          "shell.execute_reply": "2020-09-25T19:46:59.891Z"
        }
      }
    },
    {
      "cell_type": "code",
      "source": [],
      "outputs": [],
      "execution_count": null,
      "metadata": {
        "collapsed": true,
        "jupyter": {
          "source_hidden": false,
          "outputs_hidden": false
        },
        "nteract": {
          "transient": {
            "deleting": false
          }
        }
      }
    }
  ],
  "metadata": {
    "language_info": {
      "name": "python",
      "version": "3.7.6",
      "mimetype": "text/x-python",
      "codemirror_mode": {
        "name": "ipython",
        "version": 3
      },
      "pygments_lexer": "ipython3",
      "nbconvert_exporter": "python",
      "file_extension": ".py"
    },
    "orig_nbformat": 2,
    "kernelspec": {
      "name": "python37664bitanaconda3virtualenv42e1f7119b18466aa16e53c2216a1442",
      "display_name": "Python 3.7.6 64-bit ('anaconda3': virtualenv)"
    },
    "nteract": {
      "version": "0.25.0"
    }
  },
  "nbformat": 4,
  "nbformat_minor": 2
}