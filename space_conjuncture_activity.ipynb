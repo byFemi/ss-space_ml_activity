{
 "cells": [
  {
   "cell_type": "markdown",
   "metadata": {},
   "source": [
    "# Shooting Stars Space Tech Coding Activity"
   ]
  },
  {
   "cell_type": "markdown",
   "metadata": {},
   "source": [
    "### Introduction\n",
    "Welcome to the coding activity of the Shooting Stars Space Tech activity kit. Here we will show you how to practically use the basics of machine learning you just learned in a real world example.\n",
    "\n",
    "#### Why predict error?\n",
    "In this example we will be processing positions of different object flying around in LEO.\n",
    "These object range from satellites, payloads, space junk, etc. A physical model has been created by\n",
    "astrophysicists to estimate the future position of these objects.\n",
    "However, since this physical model is purely theoretical, it does not take into account all the things that\n",
    "could affect a sapce object, like solar wind, and other space weather.\n",
    "Therefore this physical model will have some error to it.\n",
    "We, in turn, will be estimating what amount of error we expect\n",
    "the physical model will have when it predicts where the object is in LEO\n",
    "With this estimation of error, we can better understand where the object\n",
    "will *actually* be in the future and prevent any catastrophic conjunctions\n",
    "(crashes).\n",
    "\n",
    "### Importing libraries\n",
    "Lets get started!\n",
    "With those of you familiar with a coding environment,\n",
    "you must first import all libraries you will use in your script."
   ]
  },
  {
   "cell_type": "code",
   "execution_count": 2,
   "metadata": {},
   "outputs": [],
   "source": [
    "from IPython.display import clear_output\n",
    "# install required libraries\n",
    "!pip install -r requirements.txt\n",
    "clear_output()\n",
    "import pandas"
   ]
  },
  {
   "cell_type": "markdown",
   "metadata": {},
   "source": [
    "### The Data\n",
    "#### Pandas\n",
    "Next, we will get familiar with pandas, a useful library in Python that\n",
    "is great for data science and manipulating large amounts of data.\n",
    "Pandas takes many file formats (excel, csv, parquet, and more) and\n",
    "turns them into a DataFrame, which is just a representation of our data.\n",
    "For this part we will be using a parquet file and putting it into a\n",
    "dataframe.\n",
    "\n",
    "#### Parquet files\n",
    "A parquet file is a special serialized file that holds compresses data\n",
    "(to save storage space). This parquet file we are loading now has\n",
    "lots of data that we will use to train our machine learning model.\n",
    "We use the pandas library to load a parquet file into a\n",
    "variable called `df`.\n",
    "\n",
    "#### Real satellite data\n",
    "Our data for this ML model comes from\n",
    "[this website](www.space-track.org). Please take a look at it if you are\n",
    "interested."
   ]
  },
  {
   "cell_type": "code",
   "execution_count": 4,
   "metadata": {},
   "outputs": [],
   "source": [
    "space_data = pandas.read_parquet('orbital_predict_data/physics_preds_20201023_EDITED.parquet')"
   ]
  },
  {
   "cell_type": "markdown",
   "metadata": {},
   "source": [
    "After we have loaded the data from the parquet file into a local variable, we can look at some of the columns and rows listed in the data frame."
   ]
  },
  {
   "cell_type": "code",
   "execution_count": 5,
   "metadata": {},
   "outputs": [
    {
     "data": {
      "text/html": [
       "<div>\n",
       "<style scoped>\n",
       "    .dataframe tbody tr th:only-of-type {\n",
       "        vertical-align: middle;\n",
       "    }\n",
       "\n",
       "    .dataframe tbody tr th {\n",
       "        vertical-align: top;\n",
       "    }\n",
       "\n",
       "    .dataframe thead th {\n",
       "        text-align: right;\n",
       "    }\n",
       "</style>\n",
       "<table border=\"1\" class=\"dataframe\">\n",
       "  <thead>\n",
       "    <tr style=\"text-align: right;\">\n",
       "      <th></th>\n",
       "      <th>epoch</th>\n",
       "      <th>aso_name</th>\n",
       "      <th>aso_id</th>\n",
       "      <th>r_x</th>\n",
       "      <th>r_y</th>\n",
       "      <th>object_type</th>\n",
       "      <th>start_epoch</th>\n",
       "      <th>start_r_x</th>\n",
       "      <th>start_r_y</th>\n",
       "      <th>elapsed_seconds</th>\n",
       "      <th>physics_pred_r_x</th>\n",
       "      <th>physics_pred_r_y</th>\n",
       "      <th>physics_err_r_x</th>\n",
       "      <th>physics_err_r_y</th>\n",
       "    </tr>\n",
       "  </thead>\n",
       "  <tbody>\n",
       "    <tr>\n",
       "      <th>0</th>\n",
       "      <td>2020-09-25 16:47:28.076</td>\n",
       "      <td>COSMOS 909</td>\n",
       "      <td>10010</td>\n",
       "      <td>-1.783030e+06</td>\n",
       "      <td>-8.208743e+06</td>\n",
       "      <td>payload</td>\n",
       "      <td>2020-09-24 11:31:40.753</td>\n",
       "      <td>-1.446152e+06</td>\n",
       "      <td>-8.277359e+06</td>\n",
       "      <td>105347.322144</td>\n",
       "      <td>-1.525834e+06</td>\n",
       "      <td>-8.215337e+06</td>\n",
       "      <td>2.571959e+05</td>\n",
       "      <td>-6593.767333</td>\n",
       "    </tr>\n",
       "    <tr>\n",
       "      <th>1</th>\n",
       "      <td>2020-09-25 10:56:18.613</td>\n",
       "      <td>COSMOS 909</td>\n",
       "      <td>10010</td>\n",
       "      <td>-1.715884e+06</td>\n",
       "      <td>-8.223570e+06</td>\n",
       "      <td>payload</td>\n",
       "      <td>2020-09-24 11:31:40.753</td>\n",
       "      <td>-1.446152e+06</td>\n",
       "      <td>-8.277359e+06</td>\n",
       "      <td>84277.859616</td>\n",
       "      <td>-1.510850e+06</td>\n",
       "      <td>-8.231060e+06</td>\n",
       "      <td>2.050344e+05</td>\n",
       "      <td>-7490.018486</td>\n",
       "    </tr>\n",
       "    <tr>\n",
       "      <th>2</th>\n",
       "      <td>2020-09-28 07:13:08.987</td>\n",
       "      <td>COSMOS 909</td>\n",
       "      <td>10010</td>\n",
       "      <td>-2.490278e+06</td>\n",
       "      <td>-8.016655e+06</td>\n",
       "      <td>payload</td>\n",
       "      <td>2020-09-26 12:17:59.618</td>\n",
       "      <td>-2.005868e+06</td>\n",
       "      <td>-8.155362e+06</td>\n",
       "      <td>154509.369696</td>\n",
       "      <td>-2.109646e+06</td>\n",
       "      <td>-8.042023e+06</td>\n",
       "      <td>3.806322e+05</td>\n",
       "      <td>-25367.348509</td>\n",
       "    </tr>\n",
       "    <tr>\n",
       "      <th>3</th>\n",
       "      <td>2020-09-27 15:36:43.765</td>\n",
       "      <td>COSMOS 909</td>\n",
       "      <td>10010</td>\n",
       "      <td>-2.315127e+06</td>\n",
       "      <td>-8.070455e+06</td>\n",
       "      <td>payload</td>\n",
       "      <td>2020-09-26 12:17:59.618</td>\n",
       "      <td>-2.005868e+06</td>\n",
       "      <td>-8.155362e+06</td>\n",
       "      <td>98324.147808</td>\n",
       "      <td>-2.075787e+06</td>\n",
       "      <td>-8.093311e+06</td>\n",
       "      <td>2.393397e+05</td>\n",
       "      <td>-22856.445677</td>\n",
       "    </tr>\n",
       "    <tr>\n",
       "      <th>4</th>\n",
       "      <td>2020-09-27 09:45:34.306</td>\n",
       "      <td>COSMOS 909</td>\n",
       "      <td>10010</td>\n",
       "      <td>-2.249146e+06</td>\n",
       "      <td>-8.089643e+06</td>\n",
       "      <td>payload</td>\n",
       "      <td>2020-09-26 12:17:59.618</td>\n",
       "      <td>-2.005868e+06</td>\n",
       "      <td>-8.155362e+06</td>\n",
       "      <td>77254.688736</td>\n",
       "      <td>-2.061879e+06</td>\n",
       "      <td>-8.109596e+06</td>\n",
       "      <td>1.872673e+05</td>\n",
       "      <td>-19952.181174</td>\n",
       "    </tr>\n",
       "    <tr>\n",
       "      <th>...</th>\n",
       "      <td>...</td>\n",
       "      <td>...</td>\n",
       "      <td>...</td>\n",
       "      <td>...</td>\n",
       "      <td>...</td>\n",
       "      <td>...</td>\n",
       "      <td>...</td>\n",
       "      <td>...</td>\n",
       "      <td>...</td>\n",
       "      <td>...</td>\n",
       "      <td>...</td>\n",
       "      <td>...</td>\n",
       "      <td>...</td>\n",
       "      <td>...</td>\n",
       "    </tr>\n",
       "    <tr>\n",
       "      <th>637322</th>\n",
       "      <td>2020-10-17 18:18:29.815</td>\n",
       "      <td>THORAD DELTA 1 DEB</td>\n",
       "      <td>9989</td>\n",
       "      <td>-3.690649e+06</td>\n",
       "      <td>-2.754086e+06</td>\n",
       "      <td>debris</td>\n",
       "      <td>2020-10-17 04:25:58.836</td>\n",
       "      <td>4.600393e+06</td>\n",
       "      <td>-5.966865e+04</td>\n",
       "      <td>49950.978911</td>\n",
       "      <td>-3.383725e+06</td>\n",
       "      <td>-2.701697e+06</td>\n",
       "      <td>3.069238e+05</td>\n",
       "      <td>52388.613995</td>\n",
       "    </tr>\n",
       "    <tr>\n",
       "      <th>637323</th>\n",
       "      <td>2020-10-22 11:58:02.084</td>\n",
       "      <td>THORAD DELTA 1 DEB</td>\n",
       "      <td>9989</td>\n",
       "      <td>3.106347e+06</td>\n",
       "      <td>-4.464325e+05</td>\n",
       "      <td>debris</td>\n",
       "      <td>2020-10-20 03:56:11.196</td>\n",
       "      <td>3.628298e+06</td>\n",
       "      <td>-3.157527e+05</td>\n",
       "      <td>201710.888064</td>\n",
       "      <td>4.759157e+06</td>\n",
       "      <td>5.157482e+05</td>\n",
       "      <td>1.652810e+06</td>\n",
       "      <td>962180.768523</td>\n",
       "    </tr>\n",
       "    <tr>\n",
       "      <th>637324</th>\n",
       "      <td>2020-10-22 04:14:24.131</td>\n",
       "      <td>THORAD DELTA 1 DEB</td>\n",
       "      <td>9989</td>\n",
       "      <td>3.152882e+06</td>\n",
       "      <td>-4.393782e+05</td>\n",
       "      <td>debris</td>\n",
       "      <td>2020-10-20 03:56:11.196</td>\n",
       "      <td>3.628298e+06</td>\n",
       "      <td>-3.157527e+05</td>\n",
       "      <td>173892.934944</td>\n",
       "      <td>4.594637e+06</td>\n",
       "      <td>3.821484e+05</td>\n",
       "      <td>1.441754e+06</td>\n",
       "      <td>821526.566759</td>\n",
       "    </tr>\n",
       "    <tr>\n",
       "      <th>637325</th>\n",
       "      <td>2020-10-21 04:50:52.869</td>\n",
       "      <td>THORAD DELTA 1 DEB</td>\n",
       "      <td>9989</td>\n",
       "      <td>6.718411e+06</td>\n",
       "      <td>1.823389e+06</td>\n",
       "      <td>debris</td>\n",
       "      <td>2020-10-20 03:56:11.196</td>\n",
       "      <td>3.628298e+06</td>\n",
       "      <td>-3.157527e+05</td>\n",
       "      <td>89681.673312</td>\n",
       "      <td>7.032861e+06</td>\n",
       "      <td>2.161258e+06</td>\n",
       "      <td>3.144500e+05</td>\n",
       "      <td>337869.246733</td>\n",
       "    </tr>\n",
       "    <tr>\n",
       "      <th>637326</th>\n",
       "      <td>2020-10-20 03:56:11.196</td>\n",
       "      <td>THORAD DELTA 1 DEB</td>\n",
       "      <td>9989</td>\n",
       "      <td>3.628298e+06</td>\n",
       "      <td>-3.157527e+05</td>\n",
       "      <td>debris</td>\n",
       "      <td>2020-10-20 03:56:11.196</td>\n",
       "      <td>3.628298e+06</td>\n",
       "      <td>-3.157527e+05</td>\n",
       "      <td>0.000000</td>\n",
       "      <td>3.628298e+06</td>\n",
       "      <td>-3.157527e+05</td>\n",
       "      <td>0.000000e+00</td>\n",
       "      <td>0.000000</td>\n",
       "    </tr>\n",
       "  </tbody>\n",
       "</table>\n",
       "<p>637327 rows × 14 columns</p>\n",
       "</div>"
      ],
      "text/plain": [
       "                         epoch            aso_name aso_id           r_x  \\\n",
       "0      2020-09-25 16:47:28.076          COSMOS 909  10010 -1.783030e+06   \n",
       "1      2020-09-25 10:56:18.613          COSMOS 909  10010 -1.715884e+06   \n",
       "2      2020-09-28 07:13:08.987          COSMOS 909  10010 -2.490278e+06   \n",
       "3      2020-09-27 15:36:43.765          COSMOS 909  10010 -2.315127e+06   \n",
       "4      2020-09-27 09:45:34.306          COSMOS 909  10010 -2.249146e+06   \n",
       "...                        ...                 ...    ...           ...   \n",
       "637322 2020-10-17 18:18:29.815  THORAD DELTA 1 DEB   9989 -3.690649e+06   \n",
       "637323 2020-10-22 11:58:02.084  THORAD DELTA 1 DEB   9989  3.106347e+06   \n",
       "637324 2020-10-22 04:14:24.131  THORAD DELTA 1 DEB   9989  3.152882e+06   \n",
       "637325 2020-10-21 04:50:52.869  THORAD DELTA 1 DEB   9989  6.718411e+06   \n",
       "637326 2020-10-20 03:56:11.196  THORAD DELTA 1 DEB   9989  3.628298e+06   \n",
       "\n",
       "                 r_y object_type             start_epoch     start_r_x  \\\n",
       "0      -8.208743e+06     payload 2020-09-24 11:31:40.753 -1.446152e+06   \n",
       "1      -8.223570e+06     payload 2020-09-24 11:31:40.753 -1.446152e+06   \n",
       "2      -8.016655e+06     payload 2020-09-26 12:17:59.618 -2.005868e+06   \n",
       "3      -8.070455e+06     payload 2020-09-26 12:17:59.618 -2.005868e+06   \n",
       "4      -8.089643e+06     payload 2020-09-26 12:17:59.618 -2.005868e+06   \n",
       "...              ...         ...                     ...           ...   \n",
       "637322 -2.754086e+06      debris 2020-10-17 04:25:58.836  4.600393e+06   \n",
       "637323 -4.464325e+05      debris 2020-10-20 03:56:11.196  3.628298e+06   \n",
       "637324 -4.393782e+05      debris 2020-10-20 03:56:11.196  3.628298e+06   \n",
       "637325  1.823389e+06      debris 2020-10-20 03:56:11.196  3.628298e+06   \n",
       "637326 -3.157527e+05      debris 2020-10-20 03:56:11.196  3.628298e+06   \n",
       "\n",
       "           start_r_y  elapsed_seconds  physics_pred_r_x  physics_pred_r_y  \\\n",
       "0      -8.277359e+06    105347.322144     -1.525834e+06     -8.215337e+06   \n",
       "1      -8.277359e+06     84277.859616     -1.510850e+06     -8.231060e+06   \n",
       "2      -8.155362e+06    154509.369696     -2.109646e+06     -8.042023e+06   \n",
       "3      -8.155362e+06     98324.147808     -2.075787e+06     -8.093311e+06   \n",
       "4      -8.155362e+06     77254.688736     -2.061879e+06     -8.109596e+06   \n",
       "...              ...              ...               ...               ...   \n",
       "637322 -5.966865e+04     49950.978911     -3.383725e+06     -2.701697e+06   \n",
       "637323 -3.157527e+05    201710.888064      4.759157e+06      5.157482e+05   \n",
       "637324 -3.157527e+05    173892.934944      4.594637e+06      3.821484e+05   \n",
       "637325 -3.157527e+05     89681.673312      7.032861e+06      2.161258e+06   \n",
       "637326 -3.157527e+05         0.000000      3.628298e+06     -3.157527e+05   \n",
       "\n",
       "        physics_err_r_x  physics_err_r_y  \n",
       "0          2.571959e+05     -6593.767333  \n",
       "1          2.050344e+05     -7490.018486  \n",
       "2          3.806322e+05    -25367.348509  \n",
       "3          2.393397e+05    -22856.445677  \n",
       "4          1.872673e+05    -19952.181174  \n",
       "...                 ...              ...  \n",
       "637322     3.069238e+05     52388.613995  \n",
       "637323     1.652810e+06    962180.768523  \n",
       "637324     1.441754e+06    821526.566759  \n",
       "637325     3.144500e+05    337869.246733  \n",
       "637326     0.000000e+00         0.000000  \n",
       "\n",
       "[637327 rows x 14 columns]"
      ]
     },
     "execution_count": 5,
     "metadata": {},
     "output_type": "execute_result"
    }
   ],
   "source": [
    "space_data"
   ]
  },
  {
   "cell_type": "markdown",
   "metadata": {},
   "source": [
    "637326 rows? That's a lot of data!\n",
    "\n",
    "Now that we can view some of the data, lets discuss what some of the\n",
    "columns mean.\n",
    "The `aso_name` and `aso_id` are the name and id of the satellite.\n",
    "This value repeats because we track the same satellite over time.\n",
    "\n"
   ]
  },
  {
   "cell_type": "code",
   "execution_count": 1,
   "metadata": {},
   "outputs": [
    {
     "ename": "NameError",
     "evalue": "name 'space_data' is not defined",
     "output_type": "error",
     "traceback": [
      "\u001b[1;31m---------------------------------------------------------------------------\u001b[0m",
      "\u001b[1;31mNameError\u001b[0m                                 Traceback (most recent call last)",
      "\u001b[1;32m<ipython-input-1-000151da5b19>\u001b[0m in \u001b[0;36m<module>\u001b[1;34m\u001b[0m\n\u001b[1;32m----> 1\u001b[1;33m \u001b[0mspace_data\u001b[0m\u001b[1;33m.\u001b[0m\u001b[0mobject_type\u001b[0m\u001b[1;33m.\u001b[0m\u001b[0mvalue_counts\u001b[0m\u001b[1;33m(\u001b[0m\u001b[1;33m)\u001b[0m\u001b[1;33m\u001b[0m\u001b[1;33m\u001b[0m\u001b[0m\n\u001b[0m",
      "\u001b[1;31mNameError\u001b[0m: name 'space_data' is not defined"
     ]
    }
   ],
   "source": [
    "space_data.object_type.value_counts()"
   ]
  },
  {
   "cell_type": "markdown",
   "metadata": {},
   "source": [
    "##### Value Counts\n",
    "`value_counts` gave us a way to look at that column of data and learn some things about it.    \n",
    "`object_type` tells us what the object is. Let's take a look at the `object_type` now.\n",
    "Use value_counts to learn more about the `object_type` column."
   ]
  },
  {
   "cell_type": "markdown",
   "metadata": {},
   "source": [
    "##### Renaming Columns\n",
    "The epoch is the time at which the position `r_x` and\n",
    "`r_y` was taken. And `r_x` and `r_y` are the cartesian coordinates of\n",
    "the surface of the earth in 2 dimension.\n",
    "\n",
    "How about we rename some of the columns so we better understand what they mean?\n",
    "We will rename `start_r_x` to `initial_r_x` and `epoch` to `final_epoch`\n",
    "\n",
    "You rename `start_epoch`  to `initial_epoch`, `start_r_y` to `initial_r_y`,  `r_x` to `final_r_x`, and `r_y` to `final_r_y`"
   ]
  },
  {
   "cell_type": "code",
   "execution_count": null,
   "metadata": {},
   "outputs": [],
   "source": [
    "space_data = space_data.rename(columns={'start_r_x': 'initial_r_x', 'epoch': 'final_epoch'})\n",
    "\n",
    "# ------ Students provide the following line ------\n",
    "space_data = space_data.rename(columns={'start_epoch': 'initial_epoch', 'start_r_y': 'initial_r_y', 'r_x': 'final_r_x', 'r_y': 'final_r_y'})\n",
    "# -------------------------------------------------\n",
    "space_data"
   ]
  },
  {
   "cell_type": "markdown",
   "metadata": {},
   "source": [
    "\n",
    "#### Building an XGBoost Model\n",
    "Great. Now its time to build a ML model. \n",
    "We will be training an XGBoost Model\n",
    "\n",
    "XGBoost is a popular model choice because of how versatile it is.    \n",
    "It is an ensemble learning model, meaning it is composed of many 'smaller models' organised in a tournament structure.     \n",
    "### Ensemble Learning    \n",
    "Imagine a machine learning model trying to decide whether someone likes playing computer games.    \n",
    "In ensemble learning, one tree figures out whether they are a boy or girl, and the second tree finds out if they are older than 15 years old.    \n",
    "Each individual tree would be a really bad guess at whether someone likes playing computer games, but together they are a little more accurate.    \n",
    "XGBoost uses many more trees to come up with a better guess.\n",
    "![image.png](images/xgboost.png)\n",
    "\n",
    "Great now that you know more about XGBoost, lets take a look at how to implement it.     \n",
    "The first step is to download more of the libraries we need for the ML model\n"
   ]
  },
  {
   "cell_type": "code",
   "execution_count": 2,
   "metadata": {},
   "outputs": [],
   "source": [
    "import os\n",
    "import logging\n",
    "import itertools\n",
    "import numpy as np\n",
    "import pandas as pd\n",
    "import xgboost as xgb\n",
    "import matplotlib.pyplot as plt\n",
    "import sklearn.metrics as metrics\n",
    "from sklearn.model_selection import train_test_split"
   ]
  },
  {
   "cell_type": "markdown",
   "metadata": {},
   "source": [
    "We can add a method that can be called upon with the line `def <name of method>`. This `get_state_vect_cols` will grab the x and the y from the `r_x` and `r_y` variables."
   ]
  },
  {
   "cell_type": "code",
   "execution_count": 10,
   "metadata": {},
   "outputs": [],
   "source": [
    "def get_state_vect_cols(prefix):\n",
    "    \"\"\"Get the column names of the state vector components with the\n",
    "    provided `prefix`.\n",
    "    :param prefix: The prefix that is used in front of the state vector\n",
    "        components in the column names, examples are `physics_pred` and\n",
    "        `physics_err`\n",
    "    :type prefix: str\n",
    "    :return: A list of the 6 names of the prefixed state vector components\n",
    "    :rtype: [str]\n",
    "    \"\"\"\n",
    "    vectors = ['r']\n",
    "    components = ['x', 'y']\n",
    "    col_names = [f'{prefix}_{v}_{c}'\n",
    "                 for v, c\n",
    "                 in itertools.product(vectors, components)]\n",
    "    return col_names"
   ]
  },
  {
   "cell_type": "markdown",
   "metadata": {},
   "source": [
    "This method `build_train_test_sets` builds the sets of data that the ML model will use."
   ]
  },
  {
   "cell_type": "code",
   "execution_count": 11,
   "metadata": {},
   "outputs": [],
   "source": [
    "def build_train_test_sets(df, test_size=0.2):\n",
    "    # Features are the physics predicted state vectors and the amount of\n",
    "    # time in seconds into the future the prediction was made\n",
    "    feature_cols = ['elapsed_seconds'] + get_state_vect_cols('physics_pred') \\\n",
    "        + get_state_vect_cols('initial')\n",
    "    # The target values are the errors between the physical model predictions\n",
    "    # and the ground truth observations\n",
    "    target_cols = get_state_vect_cols('physics_err')\n",
    "    # Create feature and target matrices\n",
    "    X = df[feature_cols]\n",
    "    y = df[target_cols]\n",
    "    # Split feature and target data into training and test sets\n",
    "    data_keys = ['X_train', 'X_test', 'y_train', 'y_test']\n",
    "    data_vals = train_test_split(X, y, test_size=test_size)\n",
    "    train_test_data = dict(zip(data_keys, data_vals))\n",
    "    return train_test_data"
   ]
  },
  {
   "cell_type": "markdown",
   "metadata": {},
   "source": [
    "The `train_models` method will actually train the models"
   ]
  },
  {
   "cell_type": "code",
   "execution_count": 13,
   "metadata": {},
   "outputs": [],
   "source": [
    "def train_models(data, params={}, eval_metric='rmse'):\n",
    "    \"\"\"Trains gradient boosted regression tree models to estimate the error in\n",
    "    each of the two state vector components in the physical model prediction\n",
    "    :param data: Dictionary containing the training and test datasets\n",
    "    :type data: {str: numpy.array}\n",
    "    :param params: A dictionary of parameters to pass to the XGBRegressor\n",
    "        constructor\n",
    "    :type params: dict\n",
    "    :param eval_metric: The loss function to use in model training\n",
    "    :type eval_metric: str\n",
    "    :return: Dictionary containing the trained models for each state vector\n",
    "        component\n",
    "    :rtype: {str: xgboost.XGBRegressor}\n",
    "    \"\"\"\n",
    "    default_params = {\n",
    "        'booster': 'gbtree',\n",
    "        'tree_method': 'gpu_hist',\n",
    "        'gpu_id': 0\n",
    "    }\n",
    "    default_params.update(params)\n",
    "    X, ys = data['X_train'], data['y_train']\n",
    "    models = {}\n",
    "    for target_col in ys.columns:\n",
    "        y = ys[target_col]\n",
    "        reg = xgb.XGBRegressor(**default_params)\n",
    "        reg.fit(X, y, eval_metric=eval_metric)\n",
    "        models[target_col] = reg\n",
    "    return models"
   ]
  },
  {
   "cell_type": "markdown",
   "metadata": {},
   "source": [
    "Now the model can be built with the previous methods, we will want to evaluate the model, give us how much error we expect the physcial model to have, and measure how good we expect the model to be. Another way to describe this is how much we can rely on the model to give us a good answer.\n",
    "\n",
    "We will describe what RMSE and R^2 - the ways to evaluate the model - below."
   ]
  },
  {
   "cell_type": "code",
   "execution_count": 12,
   "metadata": {},
   "outputs": [],
   "source": [
    "def eval_models(models, data):\n",
    "    \"\"\"Calculates the root mean squared error (RMSE) and the coefficient of\n",
    "    determination (R^2) for each of the models.\n",
    "    :param models: Dictionary of the error model for each state vector\n",
    "        component\n",
    "    :type models: {str: xgboost.XGBRegressor}\n",
    "    :param data: Dictionary containing the training and test datasets\n",
    "    :type data: {str: numpy.array}\n",
    "    :return: Returns a DataFrame containing the evaluation metric results\n",
    "    :rtype: pandas.DataFrame\n",
    "    \"\"\"\n",
    "    evals = []\n",
    "    for target_col, reg in models.items():\n",
    "        y_hat = reg.predict(data['X_test'])\n",
    "        y = data['y_test'][target_col]\n",
    "        rmse = metrics.mean_squared_error(y, y_hat, squared=False)\n",
    "        r2 = metrics.r2_score(y, y_hat)\n",
    "        eval_dict = {'Error': target_col, 'RMSE': rmse, 'R^2': r2}\n",
    "        evals.append(eval_dict)\n",
    "    return pd.DataFrame(evals)"
   ]
  },
  {
   "cell_type": "markdown",
   "metadata": {},
   "source": [
    "We will also want a way to view the importance of each varaible in a graphical way. This method `plot_feat_impts` will show us how important each variable is to the error that comes out of the physcial model"
   ]
  },
  {
   "cell_type": "code",
   "execution_count": 18,
   "metadata": {},
   "outputs": [],
   "source": [
    "def plot_feat_impts(models, data):\n",
    "    \"\"\"Plots the feature importances for each of the error models.\n",
    "    For use in an interactive jupyter session.\n",
    "    :param models: Dictionary of the error model for each state vector\n",
    "        component\n",
    "    :type models: {str: xgboost.XGBRegressor}\n",
    "    :param data: Dictionary containing the training and test datasets\n",
    "    :type data: {str: numpy.array}\n",
    "    \"\"\"\n",
    "    feat_names = data['X_train'].columns\n",
    "    fig, axs = plt.subplots(1, 2, figsize=(10, 10))\n",
    "    print(models.items())\n",
    "    for (target_col, model), ax in zip(models.items(), axs.flat):\n",
    "        feat_imp = pd.Series(model.feature_importances_, index=feat_names)\n",
    "        feat_imp.sort_values(ascending=False, inplace=True)\n",
    "        feat_imp.plot(kind='bar', ax=ax, title=target_col)\n",
    "    plt.ylabel('Feature Importance Score')\n",
    "    plt.tight_layout()"
   ]
  },
  {
   "cell_type": "markdown",
   "metadata": {},
   "source": [
    "Finally, we can call the previous methods to build, train, and evaluate our machine learning model."
   ]
  },
  {
   "cell_type": "code",
   "execution_count": 19,
   "metadata": {},
   "outputs": [],
   "source": [
    "train_test_data = build_train_test_sets(space_data)\n",
    "err_models = train_models(train_test_data, params={'tree_method': 'hist'})\n",
    "eval_models(err_models, train_test_data)"
   ]
  },
  {
   "cell_type": "markdown",
   "metadata": {},
   "source": [
    "#### This is the final result of this machine learning model. \n",
    "\n",
    "The RMSE, or Root Mean Squared Error, shows us an average error we can expect from `physics_err_r_x` and `physics_err_r_y`. \n",
    "\n",
    "This means any random sample of `physics_pred_r_x` (for ex `-1.525834e+06`) we can expect an error of about `386486.887353` to the correct sample - final_r_x.\n",
    "\n",
    "\n",
    "The R^2 value shows us how correlated the training data is to the correct answer.\n",
    "\n",
    "With the given data that we have, our error predition of `physics_err_r_x` is  52.8 % predictable and `physics_err_r_y` is 44.5% predictable. \n",
    "\n",
    "This means we should be able to successfully predict `physics_err_r_x`, or by what amount the physcial model is off, as long as we have a sufficient amount of data (lots of rows of data). If this R^2 was a higher number, then we could use less data (less rows). \n",
    "\n",
    "    If R^2 was 1, then we need virtually no data to predict the physics_err, meaning the physical model is perfect.\n",
    "    For example, the number of miles driven and the amount of money you spend on gas is close to one - they are very correlated so the R^2 is close to 1.\n",
    "\n",
    "    If R^2 was 0, then there is no amout of data able to predict the physics_err, meaning the physical model is completely wrong.\n",
    "    For example, the number of ducks in a pond in Wisconsin vs hairs on your head - they are not correlated so the R^2 is close to 0.\n",
    "    \n",
    "On a final note, we can view a graphical view of some of the data."
   ]
  },
  {
   "cell_type": "code",
   "execution_count": 21,
   "metadata": {},
   "outputs": [
    {
     "name": "stdout",
     "output_type": "stream",
     "text": [
      "dict_items([('physics_err_r_x', XGBRegressor(base_score=0.5, booster='gbtree', colsample_bylevel=1,\n",
      "             colsample_bynode=1, colsample_bytree=1, gamma=0, gpu_id=0,\n",
      "             importance_type='gain', interaction_constraints='',\n",
      "             learning_rate=0.300000012, max_delta_step=0, max_depth=6,\n",
      "             min_child_weight=1, missing=nan, monotone_constraints='()',\n",
      "             n_estimators=100, n_jobs=0, num_parallel_tree=1, random_state=0,\n",
      "             reg_alpha=0, reg_lambda=1, scale_pos_weight=1, subsample=1,\n",
      "             tree_method='hist', validate_parameters=1, verbosity=None)), ('physics_err_r_y', XGBRegressor(base_score=0.5, booster='gbtree', colsample_bylevel=1,\n",
      "             colsample_bynode=1, colsample_bytree=1, gamma=0, gpu_id=0,\n",
      "             importance_type='gain', interaction_constraints='',\n",
      "             learning_rate=0.300000012, max_delta_step=0, max_depth=6,\n",
      "             min_child_weight=1, missing=nan, monotone_constraints='()',\n",
      "             n_estimators=100, n_jobs=0, num_parallel_tree=1, random_state=0,\n",
      "             reg_alpha=0, reg_lambda=1, scale_pos_weight=1, subsample=1,\n",
      "             tree_method='hist', validate_parameters=1, verbosity=None))])\n"
     ]
    },
    {
     "data": {
      "image/png": "[encoded data removed]",
      "text/plain": [
       "<Figure size 720x720 with 2 Axes>"
      ]
     },
     "metadata": {
      "needs_background": "light"
     },
     "output_type": "display_data"
    }
   ],
   "source": [
    "plot_feat_impts(err_models, train_test_data)"
   ]
  },
  {
   "cell_type": "markdown",
   "metadata": {},
   "source": [
    "XGBoost can tells us the importance of each variable / column in the data set.\n",
    "\n",
    "A scientist could look at this graph and see that the variable `initial_r_x` is more important to `physics_err_r_x` than the elapsed seconds."
   ]
  }
 ],
 "metadata": {
  "kernelspec": {
   "display_name": "Python 3",
   "language": "python",
   "name": "python3"
  },
  "language_info": {
   "codemirror_mode": {
    "name": "ipython",
    "version": 3
   },
   "file_extension": ".py",
   "mimetype": "text/x-python",
   "name": "python",
   "nbconvert_exporter": "python",
   "pygments_lexer": "ipython3",
   "version": "3.8.3"
  },
  "nteract": {
   "version": "0.26.0"
  }
 },
 "nbformat": 4,
 "nbformat_minor": 4
}
