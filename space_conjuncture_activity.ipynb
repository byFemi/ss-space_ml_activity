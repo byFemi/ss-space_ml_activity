{
  "cells": [
    {
      "cell_type": "markdown",
      "source": [
        "## Shooting Stars Space Tech Coding Activity"
      ],
      "metadata": {}
    },
    {
      "cell_type": "markdown",
      "source": [
        "Our data for this ML model comes from this website. Please take a look at it if you are interested: space-track.org "
      ],
      "metadata": {}
    },
    {
      "cell_type": "markdown",
      "source": [
        "Here we will show you how to practically use the basics of machine learning you just learned to a real world example.\n",
        "\n",
        "With those of you familiar with a coding environment, you must first import all libraries you will use in your script."
      ],
      "metadata": {}
    },
    {
      "cell_type": "code",
      "source": [
        "!pip install -r requirements.txt"
      ],
      "outputs": [
        {
          "output_type": "stream",
          "name": "stdout",
          "text": [
            "Requirement already satisfied: pandas==1.0.5 in /Users/davida/opt/anaconda3/lib/python3.7/site-packages (from -r requirements.txt (line 1)) (1.0.5)\n",
            "Requirement already satisfied: pandas_profiling==2.8.0 in /Users/davida/opt/anaconda3/lib/python3.7/site-packages (from -r requirements.txt (line 2)) (2.8.0)\n",
            "Collecting scikit-learn==0.23.0\n",
            "  Downloading scikit_learn-0.23.0-cp37-cp37m-macosx_10_9_x86_64.whl (7.4 MB)\n",
            "\u001b[K     |████████████████████████████████| 7.4 MB 5.4 MB/s eta 0:00:01\n",
            "\u001b[?25hRequirement already satisfied: seaborn==0.10.0 in /Users/davida/opt/anaconda3/lib/python3.7/site-packages (from -r requirements.txt (line 4)) (0.10.0)\n",
            "Requirement already satisfied: pip==20.0.2 in /Users/davida/opt/anaconda3/lib/python3.7/site-packages (from -r requirements.txt (line 5)) (20.0.2)\n",
            "Collecting xgboost==1.2.1\n",
            "  Downloading xgboost-1.2.1-py3-none-macosx_10_13_x86_64.macosx_10_14_x86_64.macosx_10_15_x86_64.whl (1.2 MB)\n",
            "\u001b[K     |████████████████████████████████| 1.2 MB 11.7 MB/s eta 0:00:01\n",
            "\u001b[?25hCollecting plotly==4.12.0\n",
            "  Downloading plotly-4.12.0-py2.py3-none-any.whl (13.1 MB)\n",
            "\u001b[K     |████████████████████████████████| 13.1 MB 25.0 MB/s eta 0:00:01\n",
            "\u001b[?25hRequirement already satisfied: python-dateutil>=2.6.1 in /Users/davida/opt/anaconda3/lib/python3.7/site-packages (from pandas==1.0.5->-r requirements.txt (line 1)) (2.8.1)\n",
            "Requirement already satisfied: numpy>=1.13.3 in /Users/davida/opt/anaconda3/lib/python3.7/site-packages (from pandas==1.0.5->-r requirements.txt (line 1)) (1.18.1)\n",
            "Requirement already satisfied: pytz>=2017.2 in /Users/davida/opt/anaconda3/lib/python3.7/site-packages (from pandas==1.0.5->-r requirements.txt (line 1)) (2019.3)\n",
            "Requirement already satisfied: visions[type_image_path]==0.4.4 in /Users/davida/opt/anaconda3/lib/python3.7/site-packages (from pandas_profiling==2.8.0->-r requirements.txt (line 2)) (0.4.4)\n",
            "Requirement already satisfied: tqdm>=4.43.0 in /Users/davida/opt/anaconda3/lib/python3.7/site-packages (from pandas_profiling==2.8.0->-r requirements.txt (line 2)) (4.48.1)\n",
            "Requirement already satisfied: matplotlib>=3.2.0 in /Users/davida/opt/anaconda3/lib/python3.7/site-packages (from pandas_profiling==2.8.0->-r requirements.txt (line 2)) (3.3.0)\n",
            "Requirement already satisfied: jinja2>=2.11.1 in /Users/davida/opt/anaconda3/lib/python3.7/site-packages (from pandas_profiling==2.8.0->-r requirements.txt (line 2)) (2.11.1)\n",
            "Requirement already satisfied: astropy>=4.0 in /Users/davida/opt/anaconda3/lib/python3.7/site-packages (from pandas_profiling==2.8.0->-r requirements.txt (line 2)) (4.0)\n",
            "Requirement already satisfied: confuse>=1.0.0 in /Users/davida/opt/anaconda3/lib/python3.7/site-packages (from pandas_profiling==2.8.0->-r requirements.txt (line 2)) (1.3.0)\n",
            "Requirement already satisfied: tangled-up-in-unicode>=0.0.6 in /Users/davida/opt/anaconda3/lib/python3.7/site-packages (from pandas_profiling==2.8.0->-r requirements.txt (line 2)) (0.0.6)\n",
            "Requirement already satisfied: htmlmin>=0.1.12 in /Users/davida/opt/anaconda3/lib/python3.7/site-packages (from pandas_profiling==2.8.0->-r requirements.txt (line 2)) (0.1.12)\n",
            "Requirement already satisfied: scipy>=1.4.1 in /Users/davida/opt/anaconda3/lib/python3.7/site-packages (from pandas_profiling==2.8.0->-r requirements.txt (line 2)) (1.4.1)\n",
            "Requirement already satisfied: phik>=0.9.10 in /Users/davida/opt/anaconda3/lib/python3.7/site-packages (from pandas_profiling==2.8.0->-r requirements.txt (line 2)) (0.10.0)\n",
            "Requirement already satisfied: missingno>=0.4.2 in /Users/davida/opt/anaconda3/lib/python3.7/site-packages (from pandas_profiling==2.8.0->-r requirements.txt (line 2)) (0.4.2)\n",
            "Requirement already satisfied: ipywidgets>=7.5.1 in /Users/davida/opt/anaconda3/lib/python3.7/site-packages (from pandas_profiling==2.8.0->-r requirements.txt (line 2)) (7.5.1)\n",
            "Requirement already satisfied: joblib in /Users/davida/opt/anaconda3/lib/python3.7/site-packages (from pandas_profiling==2.8.0->-r requirements.txt (line 2)) (0.14.1)\n",
            "Requirement already satisfied: requests>=2.23.0 in /Users/davida/opt/anaconda3/lib/python3.7/site-packages (from pandas_profiling==2.8.0->-r requirements.txt (line 2)) (2.24.0)\n",
            "Collecting threadpoolctl>=2.0.0\n",
            "  Downloading threadpoolctl-2.1.0-py3-none-any.whl (12 kB)\n",
            "Collecting retrying>=1.3.3\n",
            "  Downloading retrying-1.3.3.tar.gz (10 kB)\n",
            "Requirement already satisfied: six in /Users/davida/opt/anaconda3/lib/python3.7/site-packages (from plotly==4.12.0->-r requirements.txt (line 7)) (1.15.0)\n",
            "Requirement already satisfied: attrs>=19.3.0 in /Users/davida/opt/anaconda3/lib/python3.7/site-packages (from visions[type_image_path]==0.4.4->pandas_profiling==2.8.0->-r requirements.txt (line 2)) (19.3.0)\n",
            "Requirement already satisfied: networkx>=2.4 in /Users/davida/opt/anaconda3/lib/python3.7/site-packages (from visions[type_image_path]==0.4.4->pandas_profiling==2.8.0->-r requirements.txt (line 2)) (2.4)\n",
            "Requirement already satisfied: Pillow; extra == \"type_image_path\" in /Users/davida/opt/anaconda3/lib/python3.7/site-packages (from visions[type_image_path]==0.4.4->pandas_profiling==2.8.0->-r requirements.txt (line 2)) (7.0.0)\n",
            "Requirement already satisfied: imagehash; extra == \"type_image_path\" in /Users/davida/opt/anaconda3/lib/python3.7/site-packages (from visions[type_image_path]==0.4.4->pandas_profiling==2.8.0->-r requirements.txt (line 2)) (4.1.0)\n",
            "Requirement already satisfied: pyparsing!=2.0.4,!=2.1.2,!=2.1.6,>=2.0.3 in /Users/davida/opt/anaconda3/lib/python3.7/site-packages (from matplotlib>=3.2.0->pandas_profiling==2.8.0->-r requirements.txt (line 2)) (2.4.6)\n",
            "Requirement already satisfied: cycler>=0.10 in /Users/davida/opt/anaconda3/lib/python3.7/site-packages (from matplotlib>=3.2.0->pandas_profiling==2.8.0->-r requirements.txt (line 2)) (0.10.0)\n",
            "Requirement already satisfied: kiwisolver>=1.0.1 in /Users/davida/opt/anaconda3/lib/python3.7/site-packages (from matplotlib>=3.2.0->pandas_profiling==2.8.0->-r requirements.txt (line 2)) (1.1.0)\n",
            "Requirement already satisfied: MarkupSafe>=0.23 in /Users/davida/opt/anaconda3/lib/python3.7/site-packages (from jinja2>=2.11.1->pandas_profiling==2.8.0->-r requirements.txt (line 2)) (1.1.1)\n",
            "Requirement already satisfied: pyyaml in /Users/davida/opt/anaconda3/lib/python3.7/site-packages (from confuse>=1.0.0->pandas_profiling==2.8.0->-r requirements.txt (line 2)) (5.3)\n",
            "Requirement already satisfied: numba>=0.38.1 in /Users/davida/opt/anaconda3/lib/python3.7/site-packages (from phik>=0.9.10->pandas_profiling==2.8.0->-r requirements.txt (line 2)) (0.48.0)\n",
            "Requirement already satisfied: ipykernel>=4.5.1 in /Users/davida/opt/anaconda3/lib/python3.7/site-packages (from ipywidgets>=7.5.1->pandas_profiling==2.8.0->-r requirements.txt (line 2)) (5.3.4)\n",
            "Requirement already satisfied: ipython>=4.0.0; python_version >= \"3.3\" in /Users/davida/opt/anaconda3/lib/python3.7/site-packages (from ipywidgets>=7.5.1->pandas_profiling==2.8.0->-r requirements.txt (line 2)) (7.17.0)\n",
            "Requirement already satisfied: widgetsnbextension~=3.5.0 in /Users/davida/opt/anaconda3/lib/python3.7/site-packages (from ipywidgets>=7.5.1->pandas_profiling==2.8.0->-r requirements.txt (line 2)) (3.5.1)\n",
            "Requirement already satisfied: traitlets>=4.3.1 in /Users/davida/opt/anaconda3/lib/python3.7/site-packages (from ipywidgets>=7.5.1->pandas_profiling==2.8.0->-r requirements.txt (line 2)) (4.3.3)\n",
            "Requirement already satisfied: nbformat>=4.2.0 in /Users/davida/opt/anaconda3/lib/python3.7/site-packages (from ipywidgets>=7.5.1->pandas_profiling==2.8.0->-r requirements.txt (line 2)) (5.0.4)\n",
            "Requirement already satisfied: certifi>=2017.4.17 in /Users/davida/opt/anaconda3/lib/python3.7/site-packages (from requests>=2.23.0->pandas_profiling==2.8.0->-r requirements.txt (line 2)) (2019.11.28)\n",
            "Requirement already satisfied: urllib3!=1.25.0,!=1.25.1,<1.26,>=1.21.1 in /Users/davida/opt/anaconda3/lib/python3.7/site-packages (from requests>=2.23.0->pandas_profiling==2.8.0->-r requirements.txt (line 2)) (1.25.8)\n",
            "Requirement already satisfied: chardet<4,>=3.0.2 in /Users/davida/opt/anaconda3/lib/python3.7/site-packages (from requests>=2.23.0->pandas_profiling==2.8.0->-r requirements.txt (line 2)) (3.0.4)\n",
            "Requirement already satisfied: idna<3,>=2.5 in /Users/davida/opt/anaconda3/lib/python3.7/site-packages (from requests>=2.23.0->pandas_profiling==2.8.0->-r requirements.txt (line 2)) (2.8)\n",
            "Requirement already satisfied: decorator>=4.3.0 in /Users/davida/opt/anaconda3/lib/python3.7/site-packages (from networkx>=2.4->visions[type_image_path]==0.4.4->pandas_profiling==2.8.0->-r requirements.txt (line 2)) (4.4.2)\n",
            "Requirement already satisfied: PyWavelets in /Users/davida/opt/anaconda3/lib/python3.7/site-packages (from imagehash; extra == \"type_image_path\"->visions[type_image_path]==0.4.4->pandas_profiling==2.8.0->-r requirements.txt (line 2)) (1.1.1)\n",
            "Requirement already satisfied: setuptools in /Users/davida/opt/anaconda3/lib/python3.7/site-packages (from kiwisolver>=1.0.1->matplotlib>=3.2.0->pandas_profiling==2.8.0->-r requirements.txt (line 2)) (49.3.0)\n",
            "Requirement already satisfied: llvmlite<0.32.0,>=0.31.0dev0 in /Users/davida/opt/anaconda3/lib/python3.7/site-packages (from numba>=0.38.1->phik>=0.9.10->pandas_profiling==2.8.0->-r requirements.txt (line 2)) (0.31.0)\n",
            "Requirement already satisfied: appnope; platform_system == \"Darwin\" in /Users/davida/opt/anaconda3/lib/python3.7/site-packages (from ipykernel>=4.5.1->ipywidgets>=7.5.1->pandas_profiling==2.8.0->-r requirements.txt (line 2)) (0.1.0)\n",
            "Requirement already satisfied: jupyter-client in /Users/davida/opt/anaconda3/lib/python3.7/site-packages (from ipykernel>=4.5.1->ipywidgets>=7.5.1->pandas_profiling==2.8.0->-r requirements.txt (line 2)) (6.1.6)\n",
            "Requirement already satisfied: tornado>=4.2 in /Users/davida/opt/anaconda3/lib/python3.7/site-packages (from ipykernel>=4.5.1->ipywidgets>=7.5.1->pandas_profiling==2.8.0->-r requirements.txt (line 2)) (6.0.3)\n",
            "Requirement already satisfied: pickleshare in /Users/davida/opt/anaconda3/lib/python3.7/site-packages (from ipython>=4.0.0; python_version >= \"3.3\"->ipywidgets>=7.5.1->pandas_profiling==2.8.0->-r requirements.txt (line 2)) (0.7.5)\n",
            "Requirement already satisfied: jedi>=0.10 in /Users/davida/opt/anaconda3/lib/python3.7/site-packages (from ipython>=4.0.0; python_version >= \"3.3\"->ipywidgets>=7.5.1->pandas_profiling==2.8.0->-r requirements.txt (line 2)) (0.14.1)\n",
            "Requirement already satisfied: pygments in /Users/davida/opt/anaconda3/lib/python3.7/site-packages (from ipython>=4.0.0; python_version >= \"3.3\"->ipywidgets>=7.5.1->pandas_profiling==2.8.0->-r requirements.txt (line 2)) (2.5.2)\n",
            "Requirement already satisfied: backcall in /Users/davida/opt/anaconda3/lib/python3.7/site-packages (from ipython>=4.0.0; python_version >= \"3.3\"->ipywidgets>=7.5.1->pandas_profiling==2.8.0->-r requirements.txt (line 2)) (0.2.0)\n",
            "Requirement already satisfied: pexpect; sys_platform != \"win32\" in /Users/davida/opt/anaconda3/lib/python3.7/site-packages (from ipython>=4.0.0; python_version >= \"3.3\"->ipywidgets>=7.5.1->pandas_profiling==2.8.0->-r requirements.txt (line 2)) (4.8.0)\n",
            "Requirement already satisfied: prompt-toolkit!=3.0.0,!=3.0.1,<3.1.0,>=2.0.0 in /Users/davida/opt/anaconda3/lib/python3.7/site-packages (from ipython>=4.0.0; python_version >= \"3.3\"->ipywidgets>=7.5.1->pandas_profiling==2.8.0->-r requirements.txt (line 2)) (3.0.3)\n",
            "Requirement already satisfied: notebook>=4.4.1 in /Users/davida/opt/anaconda3/lib/python3.7/site-packages (from widgetsnbextension~=3.5.0->ipywidgets>=7.5.1->pandas_profiling==2.8.0->-r requirements.txt (line 2)) (6.0.3)\n",
            "Requirement already satisfied: ipython-genutils in /Users/davida/opt/anaconda3/lib/python3.7/site-packages (from traitlets>=4.3.1->ipywidgets>=7.5.1->pandas_profiling==2.8.0->-r requirements.txt (line 2)) (0.2.0)\n",
            "Requirement already satisfied: jupyter-core in /Users/davida/opt/anaconda3/lib/python3.7/site-packages (from nbformat>=4.2.0->ipywidgets>=7.5.1->pandas_profiling==2.8.0->-r requirements.txt (line 2)) (4.6.3)\n",
            "Requirement already satisfied: jsonschema!=2.5.0,>=2.4 in /Users/davida/opt/anaconda3/lib/python3.7/site-packages (from nbformat>=4.2.0->ipywidgets>=7.5.1->pandas_profiling==2.8.0->-r requirements.txt (line 2)) (3.2.0)\n",
            "Requirement already satisfied: pyzmq>=13 in /Users/davida/opt/anaconda3/lib/python3.7/site-packages (from jupyter-client->ipykernel>=4.5.1->ipywidgets>=7.5.1->pandas_profiling==2.8.0->-r requirements.txt (line 2)) (18.1.1)\n",
            "Requirement already satisfied: parso>=0.5.0 in /Users/davida/opt/anaconda3/lib/python3.7/site-packages (from jedi>=0.10->ipython>=4.0.0; python_version >= \"3.3\"->ipywidgets>=7.5.1->pandas_profiling==2.8.0->-r requirements.txt (line 2)) (0.5.2)\n",
            "Requirement already satisfied: ptyprocess>=0.5 in /Users/davida/opt/anaconda3/lib/python3.7/site-packages (from pexpect; sys_platform != \"win32\"->ipython>=4.0.0; python_version >= \"3.3\"->ipywidgets>=7.5.1->pandas_profiling==2.8.0->-r requirements.txt (line 2)) (0.6.0)\n",
            "Requirement already satisfied: wcwidth in /Users/davida/opt/anaconda3/lib/python3.7/site-packages (from prompt-toolkit!=3.0.0,!=3.0.1,<3.1.0,>=2.0.0->ipython>=4.0.0; python_version >= \"3.3\"->ipywidgets>=7.5.1->pandas_profiling==2.8.0->-r requirements.txt (line 2)) (0.1.8)\n",
            "Requirement already satisfied: prometheus-client in /Users/davida/opt/anaconda3/lib/python3.7/site-packages (from notebook>=4.4.1->widgetsnbextension~=3.5.0->ipywidgets>=7.5.1->pandas_profiling==2.8.0->-r requirements.txt (line 2)) (0.7.1)\n",
            "Requirement already satisfied: terminado>=0.8.1 in /Users/davida/opt/anaconda3/lib/python3.7/site-packages (from notebook>=4.4.1->widgetsnbextension~=3.5.0->ipywidgets>=7.5.1->pandas_profiling==2.8.0->-r requirements.txt (line 2)) (0.8.3)\n",
            "Requirement already satisfied: Send2Trash in /Users/davida/opt/anaconda3/lib/python3.7/site-packages (from notebook>=4.4.1->widgetsnbextension~=3.5.0->ipywidgets>=7.5.1->pandas_profiling==2.8.0->-r requirements.txt (line 2)) (1.5.0)\n",
            "Requirement already satisfied: nbconvert in /Users/davida/opt/anaconda3/lib/python3.7/site-packages (from notebook>=4.4.1->widgetsnbextension~=3.5.0->ipywidgets>=7.5.1->pandas_profiling==2.8.0->-r requirements.txt (line 2)) (5.6.1)\n",
            "Requirement already satisfied: pyrsistent>=0.14.0 in /Users/davida/opt/anaconda3/lib/python3.7/site-packages (from jsonschema!=2.5.0,>=2.4->nbformat>=4.2.0->ipywidgets>=7.5.1->pandas_profiling==2.8.0->-r requirements.txt (line 2)) (0.15.7)\n",
            "Requirement already satisfied: importlib-metadata; python_version < \"3.8\" in /Users/davida/opt/anaconda3/lib/python3.7/site-packages (from jsonschema!=2.5.0,>=2.4->nbformat>=4.2.0->ipywidgets>=7.5.1->pandas_profiling==2.8.0->-r requirements.txt (line 2)) (1.5.0)\n",
            "Requirement already satisfied: bleach in /Users/davida/opt/anaconda3/lib/python3.7/site-packages (from nbconvert->notebook>=4.4.1->widgetsnbextension~=3.5.0->ipywidgets>=7.5.1->pandas_profiling==2.8.0->-r requirements.txt (line 2)) (3.1.0)\n",
            "Requirement already satisfied: testpath in /Users/davida/opt/anaconda3/lib/python3.7/site-packages (from nbconvert->notebook>=4.4.1->widgetsnbextension~=3.5.0->ipywidgets>=7.5.1->pandas_profiling==2.8.0->-r requirements.txt (line 2)) (0.4.4)\n",
            "Requirement already satisfied: mistune<2,>=0.8.1 in /Users/davida/opt/anaconda3/lib/python3.7/site-packages (from nbconvert->notebook>=4.4.1->widgetsnbextension~=3.5.0->ipywidgets>=7.5.1->pandas_profiling==2.8.0->-r requirements.txt (line 2)) (0.8.4)\n",
            "Requirement already satisfied: defusedxml in /Users/davida/opt/anaconda3/lib/python3.7/site-packages (from nbconvert->notebook>=4.4.1->widgetsnbextension~=3.5.0->ipywidgets>=7.5.1->pandas_profiling==2.8.0->-r requirements.txt (line 2)) (0.6.0)\n",
            "Requirement already satisfied: pandocfilters>=1.4.1 in /Users/davida/opt/anaconda3/lib/python3.7/site-packages (from nbconvert->notebook>=4.4.1->widgetsnbextension~=3.5.0->ipywidgets>=7.5.1->pandas_profiling==2.8.0->-r requirements.txt (line 2)) (1.4.2)\n",
            "Requirement already satisfied: entrypoints>=0.2.2 in /Users/davida/opt/anaconda3/lib/python3.7/site-packages (from nbconvert->notebook>=4.4.1->widgetsnbextension~=3.5.0->ipywidgets>=7.5.1->pandas_profiling==2.8.0->-r requirements.txt (line 2)) (0.3)\n",
            "Requirement already satisfied: zipp>=0.5 in /Users/davida/opt/anaconda3/lib/python3.7/site-packages (from importlib-metadata; python_version < \"3.8\"->jsonschema!=2.5.0,>=2.4->nbformat>=4.2.0->ipywidgets>=7.5.1->pandas_profiling==2.8.0->-r requirements.txt (line 2)) (2.2.0)\n",
            "Requirement already satisfied: webencodings in /Users/davida/opt/anaconda3/lib/python3.7/site-packages (from bleach->nbconvert->notebook>=4.4.1->widgetsnbextension~=3.5.0->ipywidgets>=7.5.1->pandas_profiling==2.8.0->-r requirements.txt (line 2)) (0.5.1)\n",
            "Building wheels for collected packages: retrying\n",
            "  Building wheel for retrying (setup.py) ... \u001b[?25l-\b \b\\\b \bdone\n",
            "\u001b[?25h  Created wheel for retrying: filename=retrying-1.3.3-py3-none-any.whl size=11430 sha256=0581a786d875ac7cd51eb47c6632aa25d48a54b980ec2494374cc22360498c0a\n",
            "  Stored in directory: /Users/davida/Library/Caches/pip/wheels/f9/8d/8d/f6af3f7f9eea3553bc2fe6d53e4b287dad18b06a861ac56ddf\n",
            "Successfully built retrying\n",
            "Installing collected packages: threadpoolctl, scikit-learn, xgboost, retrying, plotly\n",
            "  Attempting uninstall: scikit-learn\n",
            "    Found existing installation: scikit-learn 0.22.1\n",
            "    Uninstalling scikit-learn-0.22.1:\n",
            "      Successfully uninstalled scikit-learn-0.22.1\n"
          ]
        }
      ],
      "execution_count": 3,
      "metadata": {
        "execution": {
          "iopub.status.busy": "2020-11-06T20:13:15.121Z",
          "iopub.execute_input": "2020-11-06T20:13:15.131Z",
          "iopub.status.idle": "2020-11-06T20:12:00.096Z",
          "shell.execute_reply": "2020-11-06T20:12:00.104Z"
        }
      }
    },
    {
      "cell_type": "code",
      "source": [
        "import pandas\n"
      ],
      "outputs": [],
      "execution_count": 2,
      "metadata": {
        "execution": {
          "iopub.status.busy": "2020-11-06T20:12:00.177Z",
          "iopub.execute_input": "2020-11-06T20:12:00.186Z",
          "iopub.status.idle": "2020-11-06T20:12:00.646Z",
          "shell.execute_reply": "2020-11-06T20:12:00.655Z"
        }
      }
    },
    {
      "cell_type": "markdown",
      "source": [
        "Next, we will get familiar with pandas, a special library in Python that is great for data science and manipulating large amounts of data.\n",
        "\n",
        "A parquet file is a special serialized file that holds compresses data (to save storage space). This parquet file we are loading now has lots of data that we will use to train our machine learning model. We use the pandas library to load a parquet file into a variable called df. "
      ],
      "metadata": {}
    },
    {
      "cell_type": "markdown",
      "source": [
        "#### Note, how do we remove my local path to the parquet file? (I'm a foolish hw dev who uses linux and vim)"
      ],
      "metadata": {}
    },
    {
      "cell_type": "code",
      "source": [
        "space_data = pandas.read_parquet('orbital_predict_data/physics_preds_20201023_EDITED.parquet')"
      ],
      "outputs": [],
      "execution_count": 2,
      "metadata": {}
    },
    {
      "cell_type": "markdown",
      "source": [
        "After we have loaded the data from the parquete file into a local variable, we can look at some of the columns and rows listed in the data frame."
      ],
      "metadata": {}
    },
    {
      "cell_type": "code",
      "source": [
        "space_data"
      ],
      "outputs": [
        {
          "output_type": "execute_result",
          "execution_count": 3,
          "data": {
            "text/html": "<div>\n<style scoped>\n    .dataframe tbody tr th:only-of-type {\n        vertical-align: middle;\n    }\n\n    .dataframe tbody tr th {\n        vertical-align: top;\n    }\n\n    .dataframe thead th {\n        text-align: right;\n    }\n</style>\n<table border=\"1\" class=\"dataframe\">\n  <thead>\n    <tr style=\"text-align: right;\">\n      <th></th>\n      <th>epoch</th>\n      <th>aso_name</th>\n      <th>aso_id</th>\n      <th>r_x</th>\n      <th>r_y</th>\n      <th>object_type</th>\n      <th>start_epoch</th>\n      <th>start_r_x</th>\n      <th>start_r_y</th>\n      <th>elapsed_seconds</th>\n      <th>physics_pred_r_x</th>\n      <th>physics_pred_r_y</th>\n      <th>physics_err_r_x</th>\n      <th>physics_err_r_y</th>\n    </tr>\n  </thead>\n  <tbody>\n    <tr>\n      <th>0</th>\n      <td>2020-09-25 16:47:28.076</td>\n      <td>COSMOS 909</td>\n      <td>10010</td>\n      <td>-1.783030e+06</td>\n      <td>-8.208743e+06</td>\n      <td>payload</td>\n      <td>2020-09-24 11:31:40.753</td>\n      <td>-1.446152e+06</td>\n      <td>-8.277359e+06</td>\n      <td>105347.322144</td>\n      <td>-1.525834e+06</td>\n      <td>-8.215337e+06</td>\n      <td>2.571959e+05</td>\n      <td>-6593.767333</td>\n    </tr>\n    <tr>\n      <th>1</th>\n      <td>2020-09-25 10:56:18.613</td>\n      <td>COSMOS 909</td>\n      <td>10010</td>\n      <td>-1.715884e+06</td>\n      <td>-8.223570e+06</td>\n      <td>payload</td>\n      <td>2020-09-24 11:31:40.753</td>\n      <td>-1.446152e+06</td>\n      <td>-8.277359e+06</td>\n      <td>84277.859616</td>\n      <td>-1.510850e+06</td>\n      <td>-8.231060e+06</td>\n      <td>2.050344e+05</td>\n      <td>-7490.018486</td>\n    </tr>\n    <tr>\n      <th>2</th>\n      <td>2020-09-28 07:13:08.987</td>\n      <td>COSMOS 909</td>\n      <td>10010</td>\n      <td>-2.490278e+06</td>\n      <td>-8.016655e+06</td>\n      <td>payload</td>\n      <td>2020-09-26 12:17:59.618</td>\n      <td>-2.005868e+06</td>\n      <td>-8.155362e+06</td>\n      <td>154509.369696</td>\n      <td>-2.109646e+06</td>\n      <td>-8.042023e+06</td>\n      <td>3.806322e+05</td>\n      <td>-25367.348509</td>\n    </tr>\n    <tr>\n      <th>3</th>\n      <td>2020-09-27 15:36:43.765</td>\n      <td>COSMOS 909</td>\n      <td>10010</td>\n      <td>-2.315127e+06</td>\n      <td>-8.070455e+06</td>\n      <td>payload</td>\n      <td>2020-09-26 12:17:59.618</td>\n      <td>-2.005868e+06</td>\n      <td>-8.155362e+06</td>\n      <td>98324.147808</td>\n      <td>-2.075787e+06</td>\n      <td>-8.093311e+06</td>\n      <td>2.393397e+05</td>\n      <td>-22856.445677</td>\n    </tr>\n    <tr>\n      <th>4</th>\n      <td>2020-09-27 09:45:34.306</td>\n      <td>COSMOS 909</td>\n      <td>10010</td>\n      <td>-2.249146e+06</td>\n      <td>-8.089643e+06</td>\n      <td>payload</td>\n      <td>2020-09-26 12:17:59.618</td>\n      <td>-2.005868e+06</td>\n      <td>-8.155362e+06</td>\n      <td>77254.688736</td>\n      <td>-2.061879e+06</td>\n      <td>-8.109596e+06</td>\n      <td>1.872673e+05</td>\n      <td>-19952.181174</td>\n    </tr>\n    <tr>\n      <th>...</th>\n      <td>...</td>\n      <td>...</td>\n      <td>...</td>\n      <td>...</td>\n      <td>...</td>\n      <td>...</td>\n      <td>...</td>\n      <td>...</td>\n      <td>...</td>\n      <td>...</td>\n      <td>...</td>\n      <td>...</td>\n      <td>...</td>\n      <td>...</td>\n    </tr>\n    <tr>\n      <th>637322</th>\n      <td>2020-10-17 18:18:29.815</td>\n      <td>THORAD DELTA 1 DEB</td>\n      <td>9989</td>\n      <td>-3.690649e+06</td>\n      <td>-2.754086e+06</td>\n      <td>debris</td>\n      <td>2020-10-17 04:25:58.836</td>\n      <td>4.600393e+06</td>\n      <td>-5.966865e+04</td>\n      <td>49950.978911</td>\n      <td>-3.383725e+06</td>\n      <td>-2.701697e+06</td>\n      <td>3.069238e+05</td>\n      <td>52388.613995</td>\n    </tr>\n    <tr>\n      <th>637323</th>\n      <td>2020-10-22 11:58:02.084</td>\n      <td>THORAD DELTA 1 DEB</td>\n      <td>9989</td>\n      <td>3.106347e+06</td>\n      <td>-4.464325e+05</td>\n      <td>debris</td>\n      <td>2020-10-20 03:56:11.196</td>\n      <td>3.628298e+06</td>\n      <td>-3.157527e+05</td>\n      <td>201710.888064</td>\n      <td>4.759157e+06</td>\n      <td>5.157482e+05</td>\n      <td>1.652810e+06</td>\n      <td>962180.768523</td>\n    </tr>\n    <tr>\n      <th>637324</th>\n      <td>2020-10-22 04:14:24.131</td>\n      <td>THORAD DELTA 1 DEB</td>\n      <td>9989</td>\n      <td>3.152882e+06</td>\n      <td>-4.393782e+05</td>\n      <td>debris</td>\n      <td>2020-10-20 03:56:11.196</td>\n      <td>3.628298e+06</td>\n      <td>-3.157527e+05</td>\n      <td>173892.934944</td>\n      <td>4.594637e+06</td>\n      <td>3.821484e+05</td>\n      <td>1.441754e+06</td>\n      <td>821526.566759</td>\n    </tr>\n    <tr>\n      <th>637325</th>\n      <td>2020-10-21 04:50:52.869</td>\n      <td>THORAD DELTA 1 DEB</td>\n      <td>9989</td>\n      <td>6.718411e+06</td>\n      <td>1.823389e+06</td>\n      <td>debris</td>\n      <td>2020-10-20 03:56:11.196</td>\n      <td>3.628298e+06</td>\n      <td>-3.157527e+05</td>\n      <td>89681.673312</td>\n      <td>7.032861e+06</td>\n      <td>2.161258e+06</td>\n      <td>3.144500e+05</td>\n      <td>337869.246733</td>\n    </tr>\n    <tr>\n      <th>637326</th>\n      <td>2020-10-20 03:56:11.196</td>\n      <td>THORAD DELTA 1 DEB</td>\n      <td>9989</td>\n      <td>3.628298e+06</td>\n      <td>-3.157527e+05</td>\n      <td>debris</td>\n      <td>2020-10-20 03:56:11.196</td>\n      <td>3.628298e+06</td>\n      <td>-3.157527e+05</td>\n      <td>0.000000</td>\n      <td>3.628298e+06</td>\n      <td>-3.157527e+05</td>\n      <td>0.000000e+00</td>\n      <td>0.000000</td>\n    </tr>\n  </tbody>\n</table>\n<p>637327 rows × 14 columns</p>\n</div>",
            "text/plain": "                         epoch            aso_name aso_id           r_x  \\\n0      2020-09-25 16:47:28.076          COSMOS 909  10010 -1.783030e+06   \n1      2020-09-25 10:56:18.613          COSMOS 909  10010 -1.715884e+06   \n2      2020-09-28 07:13:08.987          COSMOS 909  10010 -2.490278e+06   \n3      2020-09-27 15:36:43.765          COSMOS 909  10010 -2.315127e+06   \n4      2020-09-27 09:45:34.306          COSMOS 909  10010 -2.249146e+06   \n...                        ...                 ...    ...           ...   \n637322 2020-10-17 18:18:29.815  THORAD DELTA 1 DEB   9989 -3.690649e+06   \n637323 2020-10-22 11:58:02.084  THORAD DELTA 1 DEB   9989  3.106347e+06   \n637324 2020-10-22 04:14:24.131  THORAD DELTA 1 DEB   9989  3.152882e+06   \n637325 2020-10-21 04:50:52.869  THORAD DELTA 1 DEB   9989  6.718411e+06   \n637326 2020-10-20 03:56:11.196  THORAD DELTA 1 DEB   9989  3.628298e+06   \n\n                 r_y object_type             start_epoch     start_r_x  \\\n0      -8.208743e+06     payload 2020-09-24 11:31:40.753 -1.446152e+06   \n1      -8.223570e+06     payload 2020-09-24 11:31:40.753 -1.446152e+06   \n2      -8.016655e+06     payload 2020-09-26 12:17:59.618 -2.005868e+06   \n3      -8.070455e+06     payload 2020-09-26 12:17:59.618 -2.005868e+06   \n4      -8.089643e+06     payload 2020-09-26 12:17:59.618 -2.005868e+06   \n...              ...         ...                     ...           ...   \n637322 -2.754086e+06      debris 2020-10-17 04:25:58.836  4.600393e+06   \n637323 -4.464325e+05      debris 2020-10-20 03:56:11.196  3.628298e+06   \n637324 -4.393782e+05      debris 2020-10-20 03:56:11.196  3.628298e+06   \n637325  1.823389e+06      debris 2020-10-20 03:56:11.196  3.628298e+06   \n637326 -3.157527e+05      debris 2020-10-20 03:56:11.196  3.628298e+06   \n\n           start_r_y  elapsed_seconds  physics_pred_r_x  physics_pred_r_y  \\\n0      -8.277359e+06    105347.322144     -1.525834e+06     -8.215337e+06   \n1      -8.277359e+06     84277.859616     -1.510850e+06     -8.231060e+06   \n2      -8.155362e+06    154509.369696     -2.109646e+06     -8.042023e+06   \n3      -8.155362e+06     98324.147808     -2.075787e+06     -8.093311e+06   \n4      -8.155362e+06     77254.688736     -2.061879e+06     -8.109596e+06   \n...              ...              ...               ...               ...   \n637322 -5.966865e+04     49950.978911     -3.383725e+06     -2.701697e+06   \n637323 -3.157527e+05    201710.888064      4.759157e+06      5.157482e+05   \n637324 -3.157527e+05    173892.934944      4.594637e+06      3.821484e+05   \n637325 -3.157527e+05     89681.673312      7.032861e+06      2.161258e+06   \n637326 -3.157527e+05         0.000000      3.628298e+06     -3.157527e+05   \n\n        physics_err_r_x  physics_err_r_y  \n0          2.571959e+05     -6593.767333  \n1          2.050344e+05     -7490.018486  \n2          3.806322e+05    -25367.348509  \n3          2.393397e+05    -22856.445677  \n4          1.872673e+05    -19952.181174  \n...                 ...              ...  \n637322     3.069238e+05     52388.613995  \n637323     1.652810e+06    962180.768523  \n637324     1.441754e+06    821526.566759  \n637325     3.144500e+05    337869.246733  \n637326     0.000000e+00         0.000000  \n\n[637327 rows x 14 columns]"
          },
          "metadata": {}
        }
      ],
      "execution_count": 3,
      "metadata": {}
    },
    {
      "cell_type": "markdown",
      "source": [
        "That's a lot of data! It will take very long to process. Instead, of dealing with 637326 rows of data, let's cut down to 1500 rows."
      ],
      "metadata": {}
    },
    {
      "cell_type": "code",
      "source": [
        "space_data = space_data.head(1500)"
      ],
      "outputs": [],
      "execution_count": 4,
      "metadata": {}
    },
    {
      "cell_type": "code",
      "source": [
        "space_data"
      ],
      "outputs": [
        {
          "output_type": "execute_result",
          "execution_count": 5,
          "data": {
            "text/html": "<div>\n<style scoped>\n    .dataframe tbody tr th:only-of-type {\n        vertical-align: middle;\n    }\n\n    .dataframe tbody tr th {\n        vertical-align: top;\n    }\n\n    .dataframe thead th {\n        text-align: right;\n    }\n</style>\n<table border=\"1\" class=\"dataframe\">\n  <thead>\n    <tr style=\"text-align: right;\">\n      <th></th>\n      <th>epoch</th>\n      <th>aso_name</th>\n      <th>aso_id</th>\n      <th>r_x</th>\n      <th>r_y</th>\n      <th>object_type</th>\n      <th>start_epoch</th>\n      <th>start_r_x</th>\n      <th>start_r_y</th>\n      <th>elapsed_seconds</th>\n      <th>physics_pred_r_x</th>\n      <th>physics_pred_r_y</th>\n      <th>physics_err_r_x</th>\n      <th>physics_err_r_y</th>\n    </tr>\n  </thead>\n  <tbody>\n    <tr>\n      <th>0</th>\n      <td>2020-09-25 16:47:28.076</td>\n      <td>COSMOS 909</td>\n      <td>10010</td>\n      <td>-1.783030e+06</td>\n      <td>-8.208743e+06</td>\n      <td>payload</td>\n      <td>2020-09-24 11:31:40.753</td>\n      <td>-1.446152e+06</td>\n      <td>-8.277359e+06</td>\n      <td>105347.322144</td>\n      <td>-1.525834e+06</td>\n      <td>-8.215337e+06</td>\n      <td>257195.867973</td>\n      <td>-6.593767e+03</td>\n    </tr>\n    <tr>\n      <th>1</th>\n      <td>2020-09-25 10:56:18.613</td>\n      <td>COSMOS 909</td>\n      <td>10010</td>\n      <td>-1.715884e+06</td>\n      <td>-8.223570e+06</td>\n      <td>payload</td>\n      <td>2020-09-24 11:31:40.753</td>\n      <td>-1.446152e+06</td>\n      <td>-8.277359e+06</td>\n      <td>84277.859616</td>\n      <td>-1.510850e+06</td>\n      <td>-8.231060e+06</td>\n      <td>205034.426574</td>\n      <td>-7.490018e+03</td>\n    </tr>\n    <tr>\n      <th>2</th>\n      <td>2020-09-28 07:13:08.987</td>\n      <td>COSMOS 909</td>\n      <td>10010</td>\n      <td>-2.490278e+06</td>\n      <td>-8.016655e+06</td>\n      <td>payload</td>\n      <td>2020-09-26 12:17:59.618</td>\n      <td>-2.005868e+06</td>\n      <td>-8.155362e+06</td>\n      <td>154509.369696</td>\n      <td>-2.109646e+06</td>\n      <td>-8.042023e+06</td>\n      <td>380632.232860</td>\n      <td>-2.536735e+04</td>\n    </tr>\n    <tr>\n      <th>3</th>\n      <td>2020-09-27 15:36:43.765</td>\n      <td>COSMOS 909</td>\n      <td>10010</td>\n      <td>-2.315127e+06</td>\n      <td>-8.070455e+06</td>\n      <td>payload</td>\n      <td>2020-09-26 12:17:59.618</td>\n      <td>-2.005868e+06</td>\n      <td>-8.155362e+06</td>\n      <td>98324.147808</td>\n      <td>-2.075787e+06</td>\n      <td>-8.093311e+06</td>\n      <td>239339.708986</td>\n      <td>-2.285645e+04</td>\n    </tr>\n    <tr>\n      <th>4</th>\n      <td>2020-09-27 09:45:34.306</td>\n      <td>COSMOS 909</td>\n      <td>10010</td>\n      <td>-2.249146e+06</td>\n      <td>-8.089643e+06</td>\n      <td>payload</td>\n      <td>2020-09-26 12:17:59.618</td>\n      <td>-2.005868e+06</td>\n      <td>-8.155362e+06</td>\n      <td>77254.688736</td>\n      <td>-2.061879e+06</td>\n      <td>-8.109596e+06</td>\n      <td>187267.320122</td>\n      <td>-1.995218e+04</td>\n    </tr>\n    <tr>\n      <th>...</th>\n      <td>...</td>\n      <td>...</td>\n      <td>...</td>\n      <td>...</td>\n      <td>...</td>\n      <td>...</td>\n      <td>...</td>\n      <td>...</td>\n      <td>...</td>\n      <td>...</td>\n      <td>...</td>\n      <td>...</td>\n      <td>...</td>\n      <td>...</td>\n    </tr>\n    <tr>\n      <th>1495</th>\n      <td>2020-10-20 11:52:01.019</td>\n      <td>DELTA 1 DEB</td>\n      <td>10227</td>\n      <td>5.177207e+06</td>\n      <td>6.053559e+06</td>\n      <td>debris</td>\n      <td>2020-10-20 11:52:01.019</td>\n      <td>5.177207e+06</td>\n      <td>6.053559e+06</td>\n      <td>0.000000</td>\n      <td>5.177207e+06</td>\n      <td>6.053559e+06</td>\n      <td>0.000000</td>\n      <td>0.000000e+00</td>\n    </tr>\n    <tr>\n      <th>1496</th>\n      <td>2020-09-25 15:29:47.311</td>\n      <td>DELTA 1 DEB</td>\n      <td>10229</td>\n      <td>5.979559e+06</td>\n      <td>3.807282e+06</td>\n      <td>debris</td>\n      <td>2020-09-24 01:09:21.964</td>\n      <td>5.310555e+06</td>\n      <td>4.762738e+06</td>\n      <td>138025.347839</td>\n      <td>5.264955e+06</td>\n      <td>4.749153e+06</td>\n      <td>-714604.620118</td>\n      <td>9.418712e+05</td>\n    </tr>\n    <tr>\n      <th>1497</th>\n      <td>2020-09-28 11:50:37.763</td>\n      <td>DELTA 1 DEB</td>\n      <td>10229</td>\n      <td>6.758378e+06</td>\n      <td>1.902806e+06</td>\n      <td>debris</td>\n      <td>2020-09-26 14:50:03.852</td>\n      <td>6.306764e+06</td>\n      <td>3.180622e+06</td>\n      <td>162033.911136</td>\n      <td>6.214195e+06</td>\n      <td>3.238132e+06</td>\n      <td>-544182.617241</td>\n      <td>1.335326e+06</td>\n    </tr>\n    <tr>\n      <th>1498</th>\n      <td>2020-09-27 14:10:21.148</td>\n      <td>DELTA 1 DEB</td>\n      <td>10229</td>\n      <td>6.570899e+06</td>\n      <td>2.527457e+06</td>\n      <td>debris</td>\n      <td>2020-09-26 14:50:03.852</td>\n      <td>6.306764e+06</td>\n      <td>3.180622e+06</td>\n      <td>84017.296224</td>\n      <td>6.270294e+06</td>\n      <td>3.212027e+06</td>\n      <td>-300604.667101</td>\n      <td>6.845707e+05</td>\n    </tr>\n    <tr>\n      <th>1499</th>\n      <td>2020-09-27 10:50:18.691</td>\n      <td>DELTA 1 DEB</td>\n      <td>10229</td>\n      <td>6.537055e+06</td>\n      <td>2.622212e+06</td>\n      <td>debris</td>\n      <td>2020-09-26 14:50:03.852</td>\n      <td>6.306764e+06</td>\n      <td>3.180622e+06</td>\n      <td>72014.839775</td>\n      <td>6.276833e+06</td>\n      <td>3.208154e+06</td>\n      <td>-260222.362272</td>\n      <td>5.859418e+05</td>\n    </tr>\n  </tbody>\n</table>\n<p>1500 rows × 14 columns</p>\n</div>",
            "text/plain": "                       epoch     aso_name aso_id           r_x           r_y  \\\n0    2020-09-25 16:47:28.076   COSMOS 909  10010 -1.783030e+06 -8.208743e+06   \n1    2020-09-25 10:56:18.613   COSMOS 909  10010 -1.715884e+06 -8.223570e+06   \n2    2020-09-28 07:13:08.987   COSMOS 909  10010 -2.490278e+06 -8.016655e+06   \n3    2020-09-27 15:36:43.765   COSMOS 909  10010 -2.315127e+06 -8.070455e+06   \n4    2020-09-27 09:45:34.306   COSMOS 909  10010 -2.249146e+06 -8.089643e+06   \n...                      ...          ...    ...           ...           ...   \n1495 2020-10-20 11:52:01.019  DELTA 1 DEB  10227  5.177207e+06  6.053559e+06   \n1496 2020-09-25 15:29:47.311  DELTA 1 DEB  10229  5.979559e+06  3.807282e+06   \n1497 2020-09-28 11:50:37.763  DELTA 1 DEB  10229  6.758378e+06  1.902806e+06   \n1498 2020-09-27 14:10:21.148  DELTA 1 DEB  10229  6.570899e+06  2.527457e+06   \n1499 2020-09-27 10:50:18.691  DELTA 1 DEB  10229  6.537055e+06  2.622212e+06   \n\n     object_type             start_epoch     start_r_x     start_r_y  \\\n0        payload 2020-09-24 11:31:40.753 -1.446152e+06 -8.277359e+06   \n1        payload 2020-09-24 11:31:40.753 -1.446152e+06 -8.277359e+06   \n2        payload 2020-09-26 12:17:59.618 -2.005868e+06 -8.155362e+06   \n3        payload 2020-09-26 12:17:59.618 -2.005868e+06 -8.155362e+06   \n4        payload 2020-09-26 12:17:59.618 -2.005868e+06 -8.155362e+06   \n...          ...                     ...           ...           ...   \n1495      debris 2020-10-20 11:52:01.019  5.177207e+06  6.053559e+06   \n1496      debris 2020-09-24 01:09:21.964  5.310555e+06  4.762738e+06   \n1497      debris 2020-09-26 14:50:03.852  6.306764e+06  3.180622e+06   \n1498      debris 2020-09-26 14:50:03.852  6.306764e+06  3.180622e+06   \n1499      debris 2020-09-26 14:50:03.852  6.306764e+06  3.180622e+06   \n\n      elapsed_seconds  physics_pred_r_x  physics_pred_r_y  physics_err_r_x  \\\n0       105347.322144     -1.525834e+06     -8.215337e+06    257195.867973   \n1        84277.859616     -1.510850e+06     -8.231060e+06    205034.426574   \n2       154509.369696     -2.109646e+06     -8.042023e+06    380632.232860   \n3        98324.147808     -2.075787e+06     -8.093311e+06    239339.708986   \n4        77254.688736     -2.061879e+06     -8.109596e+06    187267.320122   \n...               ...               ...               ...              ...   \n1495         0.000000      5.177207e+06      6.053559e+06         0.000000   \n1496    138025.347839      5.264955e+06      4.749153e+06   -714604.620118   \n1497    162033.911136      6.214195e+06      3.238132e+06   -544182.617241   \n1498     84017.296224      6.270294e+06      3.212027e+06   -300604.667101   \n1499     72014.839775      6.276833e+06      3.208154e+06   -260222.362272   \n\n      physics_err_r_y  \n0       -6.593767e+03  \n1       -7.490018e+03  \n2       -2.536735e+04  \n3       -2.285645e+04  \n4       -1.995218e+04  \n...               ...  \n1495     0.000000e+00  \n1496     9.418712e+05  \n1497     1.335326e+06  \n1498     6.845707e+05  \n1499     5.859418e+05  \n\n[1500 rows x 14 columns]"
          },
          "metadata": {}
        }
      ],
      "execution_count": 5,
      "metadata": {}
    },
    {
      "cell_type": "markdown",
      "source": [
        "Looks good! How about we rename some of the columns so we better understand what they mean?\n",
        "We will rename `start_r_x` to `initial_r_x` and `epoch` to `final_epoch`\n",
        "\n",
        "You rename `start_epoch`  to `initial_epoch`, `start_r_y` to `initial_r_y`,  `r_x` to `final_r_x`, and `r_y` to `final_r_y`"
      ],
      "metadata": {}
    },
    {
      "cell_type": "code",
      "source": [
        "space_data = space_data.rename(columns={'start_r_x': 'initial_r_x', 'epoch': 'final_epoch'})\n",
        "space_data = space_data.rename(columns={'start_epoch': 'initial_epoch', 'start_r_y': 'initial_r_y', 'r_x': 'final_r_x', 'r_y': 'final_r_y'})\n",
        "space_data"
      ],
      "outputs": [
        {
          "output_type": "execute_result",
          "execution_count": 14,
          "data": {
            "text/html": "<div>\n<style scoped>\n    .dataframe tbody tr th:only-of-type {\n        vertical-align: middle;\n    }\n\n    .dataframe tbody tr th {\n        vertical-align: top;\n    }\n\n    .dataframe thead th {\n        text-align: right;\n    }\n</style>\n<table border=\"1\" class=\"dataframe\">\n  <thead>\n    <tr style=\"text-align: right;\">\n      <th></th>\n      <th>final_epoch</th>\n      <th>aso_name</th>\n      <th>aso_id</th>\n      <th>final_r_x</th>\n      <th>final_r_y</th>\n      <th>object_type</th>\n      <th>initial_epoch</th>\n      <th>initial_r_x</th>\n      <th>initial_r_y</th>\n      <th>elapsed_seconds</th>\n      <th>physics_pred_r_x</th>\n      <th>physics_pred_r_y</th>\n      <th>physics_err_r_x</th>\n      <th>physics_err_r_y</th>\n    </tr>\n  </thead>\n  <tbody>\n    <tr>\n      <th>0</th>\n      <td>2020-09-25 16:47:28.076</td>\n      <td>COSMOS 909</td>\n      <td>10010</td>\n      <td>-1.783030e+06</td>\n      <td>-8.208743e+06</td>\n      <td>payload</td>\n      <td>2020-09-24 11:31:40.753</td>\n      <td>-1.446152e+06</td>\n      <td>-8.277359e+06</td>\n      <td>105347.322144</td>\n      <td>-1.525834e+06</td>\n      <td>-8.215337e+06</td>\n      <td>257195.867973</td>\n      <td>-6.593767e+03</td>\n    </tr>\n    <tr>\n      <th>1</th>\n      <td>2020-09-25 10:56:18.613</td>\n      <td>COSMOS 909</td>\n      <td>10010</td>\n      <td>-1.715884e+06</td>\n      <td>-8.223570e+06</td>\n      <td>payload</td>\n      <td>2020-09-24 11:31:40.753</td>\n      <td>-1.446152e+06</td>\n      <td>-8.277359e+06</td>\n      <td>84277.859616</td>\n      <td>-1.510850e+06</td>\n      <td>-8.231060e+06</td>\n      <td>205034.426574</td>\n      <td>-7.490018e+03</td>\n    </tr>\n    <tr>\n      <th>2</th>\n      <td>2020-09-28 07:13:08.987</td>\n      <td>COSMOS 909</td>\n      <td>10010</td>\n      <td>-2.490278e+06</td>\n      <td>-8.016655e+06</td>\n      <td>payload</td>\n      <td>2020-09-26 12:17:59.618</td>\n      <td>-2.005868e+06</td>\n      <td>-8.155362e+06</td>\n      <td>154509.369696</td>\n      <td>-2.109646e+06</td>\n      <td>-8.042023e+06</td>\n      <td>380632.232860</td>\n      <td>-2.536735e+04</td>\n    </tr>\n    <tr>\n      <th>3</th>\n      <td>2020-09-27 15:36:43.765</td>\n      <td>COSMOS 909</td>\n      <td>10010</td>\n      <td>-2.315127e+06</td>\n      <td>-8.070455e+06</td>\n      <td>payload</td>\n      <td>2020-09-26 12:17:59.618</td>\n      <td>-2.005868e+06</td>\n      <td>-8.155362e+06</td>\n      <td>98324.147808</td>\n      <td>-2.075787e+06</td>\n      <td>-8.093311e+06</td>\n      <td>239339.708986</td>\n      <td>-2.285645e+04</td>\n    </tr>\n    <tr>\n      <th>4</th>\n      <td>2020-09-27 09:45:34.306</td>\n      <td>COSMOS 909</td>\n      <td>10010</td>\n      <td>-2.249146e+06</td>\n      <td>-8.089643e+06</td>\n      <td>payload</td>\n      <td>2020-09-26 12:17:59.618</td>\n      <td>-2.005868e+06</td>\n      <td>-8.155362e+06</td>\n      <td>77254.688736</td>\n      <td>-2.061879e+06</td>\n      <td>-8.109596e+06</td>\n      <td>187267.320122</td>\n      <td>-1.995218e+04</td>\n    </tr>\n    <tr>\n      <th>...</th>\n      <td>...</td>\n      <td>...</td>\n      <td>...</td>\n      <td>...</td>\n      <td>...</td>\n      <td>...</td>\n      <td>...</td>\n      <td>...</td>\n      <td>...</td>\n      <td>...</td>\n      <td>...</td>\n      <td>...</td>\n      <td>...</td>\n      <td>...</td>\n    </tr>\n    <tr>\n      <th>1495</th>\n      <td>2020-10-20 11:52:01.019</td>\n      <td>DELTA 1 DEB</td>\n      <td>10227</td>\n      <td>5.177207e+06</td>\n      <td>6.053559e+06</td>\n      <td>debris</td>\n      <td>2020-10-20 11:52:01.019</td>\n      <td>5.177207e+06</td>\n      <td>6.053559e+06</td>\n      <td>0.000000</td>\n      <td>5.177207e+06</td>\n      <td>6.053559e+06</td>\n      <td>0.000000</td>\n      <td>0.000000e+00</td>\n    </tr>\n    <tr>\n      <th>1496</th>\n      <td>2020-09-25 15:29:47.311</td>\n      <td>DELTA 1 DEB</td>\n      <td>10229</td>\n      <td>5.979559e+06</td>\n      <td>3.807282e+06</td>\n      <td>debris</td>\n      <td>2020-09-24 01:09:21.964</td>\n      <td>5.310555e+06</td>\n      <td>4.762738e+06</td>\n      <td>138025.347839</td>\n      <td>5.264955e+06</td>\n      <td>4.749153e+06</td>\n      <td>-714604.620118</td>\n      <td>9.418712e+05</td>\n    </tr>\n    <tr>\n      <th>1497</th>\n      <td>2020-09-28 11:50:37.763</td>\n      <td>DELTA 1 DEB</td>\n      <td>10229</td>\n      <td>6.758378e+06</td>\n      <td>1.902806e+06</td>\n      <td>debris</td>\n      <td>2020-09-26 14:50:03.852</td>\n      <td>6.306764e+06</td>\n      <td>3.180622e+06</td>\n      <td>162033.911136</td>\n      <td>6.214195e+06</td>\n      <td>3.238132e+06</td>\n      <td>-544182.617241</td>\n      <td>1.335326e+06</td>\n    </tr>\n    <tr>\n      <th>1498</th>\n      <td>2020-09-27 14:10:21.148</td>\n      <td>DELTA 1 DEB</td>\n      <td>10229</td>\n      <td>6.570899e+06</td>\n      <td>2.527457e+06</td>\n      <td>debris</td>\n      <td>2020-09-26 14:50:03.852</td>\n      <td>6.306764e+06</td>\n      <td>3.180622e+06</td>\n      <td>84017.296224</td>\n      <td>6.270294e+06</td>\n      <td>3.212027e+06</td>\n      <td>-300604.667101</td>\n      <td>6.845707e+05</td>\n    </tr>\n    <tr>\n      <th>1499</th>\n      <td>2020-09-27 10:50:18.691</td>\n      <td>DELTA 1 DEB</td>\n      <td>10229</td>\n      <td>6.537055e+06</td>\n      <td>2.622212e+06</td>\n      <td>debris</td>\n      <td>2020-09-26 14:50:03.852</td>\n      <td>6.306764e+06</td>\n      <td>3.180622e+06</td>\n      <td>72014.839775</td>\n      <td>6.276833e+06</td>\n      <td>3.208154e+06</td>\n      <td>-260222.362272</td>\n      <td>5.859418e+05</td>\n    </tr>\n  </tbody>\n</table>\n<p>1500 rows × 14 columns</p>\n</div>",
            "text/plain": "                 final_epoch     aso_name aso_id     final_r_x     final_r_y  \\\n0    2020-09-25 16:47:28.076   COSMOS 909  10010 -1.783030e+06 -8.208743e+06   \n1    2020-09-25 10:56:18.613   COSMOS 909  10010 -1.715884e+06 -8.223570e+06   \n2    2020-09-28 07:13:08.987   COSMOS 909  10010 -2.490278e+06 -8.016655e+06   \n3    2020-09-27 15:36:43.765   COSMOS 909  10010 -2.315127e+06 -8.070455e+06   \n4    2020-09-27 09:45:34.306   COSMOS 909  10010 -2.249146e+06 -8.089643e+06   \n...                      ...          ...    ...           ...           ...   \n1495 2020-10-20 11:52:01.019  DELTA 1 DEB  10227  5.177207e+06  6.053559e+06   \n1496 2020-09-25 15:29:47.311  DELTA 1 DEB  10229  5.979559e+06  3.807282e+06   \n1497 2020-09-28 11:50:37.763  DELTA 1 DEB  10229  6.758378e+06  1.902806e+06   \n1498 2020-09-27 14:10:21.148  DELTA 1 DEB  10229  6.570899e+06  2.527457e+06   \n1499 2020-09-27 10:50:18.691  DELTA 1 DEB  10229  6.537055e+06  2.622212e+06   \n\n     object_type           initial_epoch   initial_r_x   initial_r_y  \\\n0        payload 2020-09-24 11:31:40.753 -1.446152e+06 -8.277359e+06   \n1        payload 2020-09-24 11:31:40.753 -1.446152e+06 -8.277359e+06   \n2        payload 2020-09-26 12:17:59.618 -2.005868e+06 -8.155362e+06   \n3        payload 2020-09-26 12:17:59.618 -2.005868e+06 -8.155362e+06   \n4        payload 2020-09-26 12:17:59.618 -2.005868e+06 -8.155362e+06   \n...          ...                     ...           ...           ...   \n1495      debris 2020-10-20 11:52:01.019  5.177207e+06  6.053559e+06   \n1496      debris 2020-09-24 01:09:21.964  5.310555e+06  4.762738e+06   \n1497      debris 2020-09-26 14:50:03.852  6.306764e+06  3.180622e+06   \n1498      debris 2020-09-26 14:50:03.852  6.306764e+06  3.180622e+06   \n1499      debris 2020-09-26 14:50:03.852  6.306764e+06  3.180622e+06   \n\n      elapsed_seconds  physics_pred_r_x  physics_pred_r_y  physics_err_r_x  \\\n0       105347.322144     -1.525834e+06     -8.215337e+06    257195.867973   \n1        84277.859616     -1.510850e+06     -8.231060e+06    205034.426574   \n2       154509.369696     -2.109646e+06     -8.042023e+06    380632.232860   \n3        98324.147808     -2.075787e+06     -8.093311e+06    239339.708986   \n4        77254.688736     -2.061879e+06     -8.109596e+06    187267.320122   \n...               ...               ...               ...              ...   \n1495         0.000000      5.177207e+06      6.053559e+06         0.000000   \n1496    138025.347839      5.264955e+06      4.749153e+06   -714604.620118   \n1497    162033.911136      6.214195e+06      3.238132e+06   -544182.617241   \n1498     84017.296224      6.270294e+06      3.212027e+06   -300604.667101   \n1499     72014.839775      6.276833e+06      3.208154e+06   -260222.362272   \n\n      physics_err_r_y  \n0       -6.593767e+03  \n1       -7.490018e+03  \n2       -2.536735e+04  \n3       -2.285645e+04  \n4       -1.995218e+04  \n...               ...  \n1495     0.000000e+00  \n1496     9.418712e+05  \n1497     1.335326e+06  \n1498     6.845707e+05  \n1499     5.859418e+05  \n\n[1500 rows x 14 columns]"
          },
          "metadata": {}
        }
      ],
      "execution_count": 14,
      "metadata": {
        "collapsed": true,
        "jupyter": {
          "outputs_hidden": true
        }
      }
    },
    {
      "cell_type": "markdown",
      "source": [
        "Time to build a ML model. "
      ],
      "metadata": {}
    },
    {
      "cell_type": "markdown",
      "source": [
        "Step 1"
      ],
      "metadata": {}
    },
    {
      "cell_type": "markdown",
      "source": [
        "Step 2"
      ],
      "metadata": {}
    },
    {
      "cell_type": "code",
      "source": [
        "import os\n",
        "import logging\n",
        "import itertools\n",
        "import numpy as np\n",
        "import pandas as pd\n",
        "import xgboost as xgb\n",
        "import matplotlib.pyplot as plt\n",
        "import sklearn.metrics as metrics\n",
        "from sklearn.model_selection import train_test_split"
      ],
      "outputs": [],
      "execution_count": 15,
      "metadata": {}
    },
    {
      "cell_type": "code",
      "source": [
        "def get_state_vect_cols(prefix):\n",
        "    \"\"\"Get the column names of the state vector components with the\n",
        "    provided `prefix`.\n",
        "    :param prefix: The prefix that is used in front of the state vector\n",
        "        components in the column names, examples are `physics_pred` and\n",
        "        `physics_err`\n",
        "    :type prefix: str\n",
        "    :return: A list of the 6 names of the prefixed state vector components\n",
        "    :rtype: [str]\n",
        "    \"\"\"\n",
        "    vectors = ['r']\n",
        "    components = ['x', 'y']\n",
        "    col_names = [f'{prefix}_{v}_{c}'\n",
        "                 for v, c\n",
        "                 in itertools.product(vectors, components)]\n",
        "    return col_names"
      ],
      "outputs": [],
      "execution_count": 16,
      "metadata": {}
    },
    {
      "cell_type": "code",
      "source": [
        "def build_train_test_sets(df, test_size=0.2):\n",
        "    # Features are the physics predicted state vectors and the amount of\n",
        "    # time in seconds into the future the prediction was made\n",
        "    feature_cols = ['elapsed_seconds'] + get_state_vect_cols('physics_pred') \\\n",
        "        + get_state_vect_cols('initial')\n",
        "    # The target values are the errors between the physical model predictions\n",
        "    # and the ground truth observations\n",
        "    target_cols = get_state_vect_cols('physics_err')\n",
        "    # Create feature and target matrices\n",
        "    X = df[feature_cols]\n",
        "    y = df[target_cols]\n",
        "    # Split feature and target data into training and test sets\n",
        "    data_keys = ['X_train', 'X_test', 'y_train', 'y_test']\n",
        "    data_vals = train_test_split(X, y, test_size=test_size)\n",
        "    train_test_data = dict(zip(data_keys, data_vals))\n",
        "    return train_test_data"
      ],
      "outputs": [],
      "execution_count": 17,
      "metadata": {}
    },
    {
      "cell_type": "code",
      "source": [
        "def eval_models(models, data):\n",
        "    \"\"\"Calculates the root mean squared error (RMSE) and the coefficient of\n",
        "    determination (R^2) for each of the models.\n",
        "    :param models: Dictionary of the error model for each state vector\n",
        "        component\n",
        "    :type models: {str: xgboost.XGBRegressor}\n",
        "    :param data: Dictionary containing the training and test datasets\n",
        "    :type data: {str: numpy.array}\n",
        "    :return: Returns a DataFrame containing the evaluation metric results\n",
        "    :rtype: pandas.DataFrame\n",
        "    \"\"\"\n",
        "    evals = []\n",
        "    for target_col, reg in models.items():\n",
        "        y_hat = reg.predict(data['X_test'])\n",
        "        y = data['y_test'][target_col]\n",
        "        rmse = metrics.mean_squared_error(y, y_hat, squared=False)\n",
        "        r2 = metrics.r2_score(y, y_hat)\n",
        "        eval_dict = {'Error': target_col, 'RMSE': rmse, 'R^2': r2}\n",
        "        evals.append(eval_dict)\n",
        "    return pd.DataFrame(evals)"
      ],
      "outputs": [],
      "execution_count": 18,
      "metadata": {}
    },
    {
      "cell_type": "code",
      "source": [
        "def train_models(data, params={}, eval_metric='rmse'):\n",
        "    \"\"\"Trains gradient boosted regression tree models to estimate the error in\n",
        "    each of the six state vector components in the physical model prediction\n",
        "    :param data: Dictionary containing the training and test datasets\n",
        "    :type data: {str: numpy.array}\n",
        "    :param params: A dictionary of parameters to pass to the XGBRegressor\n",
        "        constructor\n",
        "    :type params: dict\n",
        "    :param eval_metric: The loss function to use in model training\n",
        "    :type eval_metric: str\n",
        "    :return: Dictionary containing the trained models for each state vector\n",
        "        component\n",
        "    :rtype: {str: xgboost.XGBRegressor}\n",
        "    \"\"\"\n",
        "    default_params = {\n",
        "        'booster': 'gbtree',\n",
        "        'tree_method': 'gpu_hist',\n",
        "        'gpu_id': 0\n",
        "    }\n",
        "    default_params.update(params)\n",
        "    X, ys = data['X_train'], data['y_train']\n",
        "    models = {}\n",
        "    for target_col in ys.columns:\n",
        "        y = ys[target_col]\n",
        "        reg = xgb.XGBRegressor(**default_params)\n",
        "        reg.fit(X, y, eval_metric=eval_metric)\n",
        "        models[target_col] = reg\n",
        "    return models"
      ],
      "outputs": [],
      "execution_count": 19,
      "metadata": {}
    },
    {
      "cell_type": "code",
      "source": [
        "def plot_feat_impts(models, data):\n",
        "    \"\"\"Plots the feature importances for each of the error models.\n",
        "    For use in an interactive jupyter session.\n",
        "    :param models: Dictionary of the error model for each state vector\n",
        "        component\n",
        "    :type models: {str: xgboost.XGBRegressor}\n",
        "    :param data: Dictionary containing the training and test datasets\n",
        "    :type data: {str: numpy.array}\n",
        "    \"\"\"\n",
        "    feat_names = data['X_train'].columns\n",
        "    fig, axs = plt.subplots(2, 3, figsize=(10, 10))\n",
        "    print(models.items())\n",
        "    for (target_col, model), ax in zip(models.items(), axs.flat):\n",
        "        feat_imp = pd.Series(model.feature_importances_, index=feat_names)\n",
        "        feat_imp.sort_values(ascending=False, inplace=True)\n",
        "        feat_imp.plot(kind='bar', ax=ax, title=target_col)\n",
        "    plt.ylabel('Feature Importance Score')\n",
        "    plt.tight_layout()"
      ],
      "outputs": [],
      "execution_count": 32,
      "metadata": {}
    },
    {
      "cell_type": "code",
      "source": [
        "train_test_data = build_train_test_sets(space_data)\n",
        "\n",
        "err_models = train_models(train_test_data, params={'tree_method': 'hist'})"
      ],
      "outputs": [],
      "execution_count": 37,
      "metadata": {}
    },
    {
      "cell_type": "code",
      "source": [
        "eval_models(err_models, train_test_data)\n",
        "train_test_data"
      ],
      "outputs": [
        {
          "output_type": "execute_result",
          "execution_count": 38,
          "data": {
            "text/plain": "{'X_train':       elapsed_seconds  physics_pred_r_x  physics_pred_r_y   initial_r_x  \\\n 206      18820.122336     -7.153133e+06     -1.768749e+06 -7.154979e+06   \n 998     112522.608863     -1.536968e+06     -7.323224e+06 -1.449982e+06   \n 262     108866.216160     -7.051197e+06     -9.943798e+05 -7.127159e+06   \n 1168    164298.621888     -7.309223e+06     -1.333240e+06 -7.282406e+06   \n 136     120472.727328      6.705303e+06      2.460107e+06  3.381529e+06   \n ...               ...               ...               ...           ...   \n 1053      6423.267168      7.330587e+06      3.189228e+06  7.323017e+06   \n 457      56971.060129      4.076204e+06      5.524522e+06  4.093347e+06   \n 1256    110103.297408     -3.838313e+06      6.957164e+06 -4.029872e+06   \n 111      15164.501184      4.569369e+06      5.036178e+06  2.651597e+06   \n 958      85900.533696      3.703889e+06      6.018684e+06  3.887883e+06   \n \n        initial_r_y  \n 206  -1.769630e+06  \n 998  -7.382941e+06  \n 262  -1.002484e+06  \n 1168 -1.387920e+06  \n 136  -1.362659e+06  \n ...            ...  \n 1053  3.202698e+06  \n 457   5.547069e+06  \n 1256  6.853536e+06  \n 111  -1.555069e+06  \n 958   5.780350e+06  \n \n [1200 rows x 5 columns],\n 'X_test':       elapsed_seconds  physics_pred_r_x  physics_pred_r_y   initial_r_x  \\\n 733     146742.045120     -2.476645e+06     -6.560950e+06  4.227586e+05   \n 990      87506.964576      2.615378e+06     -7.275480e+06  2.780924e+06   \n 1224    143305.491168     -6.952616e+06      6.326489e+05 -6.967355e+06   \n 238     213294.465216     -7.118083e+06     -1.435416e+05 -7.367274e+06   \n 393      34763.416704      2.723547e+06     -6.415268e+06  2.727209e+06   \n ...               ...               ...               ...           ...   \n 156     196739.896031      2.939471e+06      3.858521e+06 -3.179707e+06   \n 1492     70624.709568      3.584335e+06      6.985672e+06  3.463334e+06   \n 311      70966.977984     -7.837357e+06      6.909186e+05 -7.827439e+06   \n 944     148250.282400     -1.812992e+06     -7.458616e+06 -1.516728e+06   \n 539     229367.534112     -5.401115e+06     -4.212739e+06 -5.656143e+06   \n \n        initial_r_y  \n 733   3.985442e+06  \n 990  -7.227264e+06  \n 1224  7.277493e+05  \n 238  -1.474392e+05  \n 393  -6.421758e+06  \n ...            ...  \n 156  -6.477469e+06  \n 1492  7.026949e+06  \n 311   5.652550e+05  \n 944  -7.533017e+06  \n 539  -4.390520e+06  \n \n [300 rows x 5 columns],\n 'y_train':       physics_err_r_x  physics_err_r_y\n 206       6896.851203    -1.933761e+04\n 998     775203.765011    -2.430527e+05\n 262      50495.488117     1.700580e+05\n 1168    249709.779527    -1.226629e+06\n 136     -60046.583604    -6.859115e+05\n ...               ...              ...\n 1053    -16216.152080     3.345833e+04\n 457      45046.975029    -6.744136e+04\n 1256   -581321.691859    -3.002027e+05\n 111      21257.231421    -1.077603e+05\n 958    -393608.560568     3.055891e+05\n \n [1200 rows x 2 columns],\n 'y_test':       physics_err_r_x  physics_err_r_y\n 733     -70730.826180     3.414664e+05\n 990     534367.937119     1.669025e+05\n 1224   -161832.449027    -1.294574e+06\n 238     248620.656587    -2.322352e+05\n 393      76917.989493     4.061815e+04\n ...               ...              ...\n 156     537986.889353     1.185951e+06\n 1492   -400386.584143     1.876338e+05\n 311     -21300.606465    -4.448296e+05\n 944     934917.514038    -2.704472e+05\n 539     605855.812017    -3.143851e+05\n \n [300 rows x 2 columns]}"
          },
          "metadata": {}
        }
      ],
      "execution_count": 38,
      "metadata": {}
    },
    {
      "cell_type": "code",
      "source": [
        "plot_feat_impts(err_models, train_test_data)"
      ],
      "outputs": [],
      "execution_count": null,
      "metadata": {}
    }
  ],
  "metadata": {
    "kernelspec": {
      "display_name": "Python 3",
      "language": "python",
      "name": "python3"
    },
    "language_info": {
      "name": "python",
      "version": "3.7.6",
      "mimetype": "text/x-python",
      "codemirror_mode": {
        "name": "ipython",
        "version": 3
      },
      "pygments_lexer": "ipython3",
      "nbconvert_exporter": "python",
      "file_extension": ".py"
    },
    "nteract": {
      "version": "0.26.0"
    }
  },
  "nbformat": 4,
  "nbformat_minor": 4
}